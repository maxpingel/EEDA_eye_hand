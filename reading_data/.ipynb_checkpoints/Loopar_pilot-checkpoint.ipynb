{
 "cells": [
  {
   "cell_type": "markdown",
   "metadata": {},
   "source": [
    "#  LoopAR Pilot Test"
   ]
  },
  {
   "cell_type": "code",
   "execution_count": 2,
   "metadata": {
    "ExecuteTime": {
     "end_time": "2020-09-17T14:51:57.292004Z",
     "start_time": "2020-09-17T14:51:56.471287Z"
    }
   },
   "outputs": [],
   "source": [
    "\n",
    "%matplotlib widget\n",
    "import pandas as pd\n",
    "import seaborn as sns\n",
    "import matplotlib.pyplot as plt\n",
    "import glob\n",
    "from IPython.display import display\n",
    "import os\n",
    "import sys\n",
    "from datetime import date\n",
    "import json\n",
    "import numpy as np\n",
    "#print(os.getcwd())"
   ]
  },
  {
   "cell_type": "markdown",
   "metadata": {},
   "source": [
    "### Defaults"
   ]
  },
  {
   "cell_type": "code",
   "execution_count": 3,
   "metadata": {
    "ExecuteTime": {
     "end_time": "2020-09-17T15:08:06.149427Z",
     "start_time": "2020-09-17T15:08:06.140454Z"
    }
   },
   "outputs": [],
   "source": [
    "ET_DATA_PATH = 'D:\\_MasterArbeit_EEDA\\EyeTracking'\n",
    "SCENE_EVENT_DATA_PATH = 'D:\\_MasterArbeit_EEDA\\SceneData'\n",
    "STEERING_DATA_PATH = 'D:\\_MasterArbeit_EEDA\\Input'\n",
    "PARTICIPANT_DATA_PATH = 'D:\\_MasterArbeit_EEDA\\ParticipantCalibrationData'\n",
    "PROCESSED_DATA_PATH = '../ProcessedData/'\n",
    "PLOT_PATH = '../PLOTS/data_quality/'\n",
    "\n",
    "os.makedirs(os.path.dirname(PROCESSED_DATA_PATH), exist_ok=True)\n",
    "os.makedirs(os.path.dirname(PLOT_PATH), exist_ok=True)"
   ]
  },
  {
   "cell_type": "markdown",
   "metadata": {},
   "source": [
    "## Eye Tracking Data Check"
   ]
  },
  {
   "cell_type": "code",
   "execution_count": 4,
   "metadata": {
    "ExecuteTime": {
     "end_time": "2020-09-17T15:13:24.277948Z",
     "start_time": "2020-09-17T15:09:44.764198Z"
    },
    "scrolled": true
   },
   "outputs": [
    {
     "data": {
      "text/plain": [
       "'D:\\\\_MasterArbeit_EEDA\\\\EyeTracking\\\\2e0a0e94ea7a477b93b7c44301bdc516_EyeTracking_MountainRoad.txt'"
      ]
     },
     "metadata": {},
     "output_type": "display_data"
    }
   ],
   "source": [
    "#Samples_df is of type DataFrame\n",
    "et_samples_df = pd.DataFrame()\n",
    "\n",
    "files = glob.glob(f'{ET_DATA_PATH}/*.txt')\n",
    "#display(files)\n",
    "\n",
    "for fi in files[2:3]: # reading only one file for now\n",
    "    display(fi)\n",
    "    with open(fi, 'r') as j:\n",
    "        tmp = json.loads(j.read())\n",
    "    for nS, sample in enumerate(tmp):\n",
    "        #display(tmp)\n",
    "        tmpdf = pd.json_normalize(data=sample, sep='_')\n",
    "        #display(tmpdf)\n",
    "        tmpdf['uid'] = fi.split('\\\\')[-1].split('_')[0]\n",
    "        tmpdf['scene'] = fi.split('_')[-1].split('.')[0]\n",
    "        et_samples_df = pd.concat([et_samples_df, tmpdf], ignore_index=True)\n",
    "    \n",
    "\n",
    "et_samples_df['timestamp'] = pd.to_datetime(et_samples_df.UnixTimeStamp, utc=True, unit='s', origin='unix')\n",
    "\n",
    "#pd.set_option('display.max_rows', samples_df.shape[0]+1)\n",
    "#display(et_samples_df['timestamp'])"
   ]
  },
  {
   "cell_type": "markdown",
   "metadata": {},
   "source": [
    "## Steeringwheel Data reading\n"
   ]
  },
  {
   "cell_type": "code",
   "execution_count": 5,
   "metadata": {
    "ExecuteTime": {
     "end_time": "2020-09-17T16:17:51.014802Z",
     "start_time": "2020-09-17T16:15:25.247220Z"
    }
   },
   "outputs": [],
   "source": [
    "steering_df = pd.DataFrame()\n",
    "\n",
    "files = glob.glob(f'{STEERING_DATA_PATH}/*.txt')\n",
    "# display(files)\n",
    "\n",
    "for fi in files[2:3]: # reading only one file for now\n",
    "    with open(fi, 'r') as j:\n",
    "        tmp = json.loads(j.read())\n",
    "    for nS, sample in enumerate(tmp):\n",
    "        tmpdf = pd.json_normalize(data=sample, sep='_')\n",
    "        tmpdf['uid'] = fi.split('\\\\')[-1].split('_')[0]\n",
    "        tmpdf['scene'] = fi.split('_')[-1].split('.')[0]\n",
    "        steering_df = pd.concat([steering_df, tmpdf], ignore_index=True)\n",
    "    \n",
    "\n",
    "steering_df['timestamp'] = pd.to_datetime(steering_df.TimeStamp, utc=True, unit='s', origin='unix')\n"
   ]
  },
  {
   "cell_type": "markdown",
   "metadata": {},
   "source": [
    "### Check if timestamps allign"
   ]
  },
  {
   "cell_type": "code",
   "execution_count": 6,
   "metadata": {},
   "outputs": [
    {
     "name": "stdout",
     "output_type": "stream",
     "text": [
      "5052\n",
      "5546\n",
      "5894\n",
      "6415\n",
      "6533\n",
      "6560\n",
      "6561\n",
      "6593\n",
      "6614\n",
      "6656\n",
      "6743\n",
      "6748\n",
      "6788\n",
      "6791\n"
     ]
    },
    {
     "data": {
      "text/plain": [
       "14"
      ]
     },
     "execution_count": 6,
     "metadata": {},
     "output_type": "execute_result"
    }
   ],
   "source": [
    "#display(steering_df)\n",
    "ne = pd.DataFrame()\n",
    "i = 0\n",
    "ne['Equal'] = np.where(steering_df['timestamp'] == et_samples_df['timestamp'],'1','0')\n",
    "for index,row in ne.iterrows():\n",
    "    if(row['Equal'])!='1':\n",
    "        steering_df = steering_df.drop(labels=[row.name], axis=0)\n",
    "        et_samples_df = et_samples_df.drop(labels=[row.name], axis=0)\n",
    "        print(row.name)        \n",
    "        i = i+1\n",
    "\n",
    "#i"
   ]
  },
  {
   "cell_type": "code",
   "execution_count": 7,
   "metadata": {},
   "outputs": [],
   "source": [
    "# If one DF is to long\n",
    "#steering_df.drop(steering_df.tail(1).index,inplace=True)\n",
    "# fuse the two DF if euqal\n",
    "et_samples_df = pd.merge(steering_df, et_samples_df)"
   ]
  },
  {
   "cell_type": "markdown",
   "metadata": {},
   "source": [
    "## Callibration Participant Data"
   ]
  },
  {
   "cell_type": "code",
   "execution_count": 23,
   "metadata": {},
   "outputs": [
    {
     "data": {
      "text/html": [
       "<div>\n",
       "<style scoped>\n",
       "    .dataframe tbody tr th:only-of-type {\n",
       "        vertical-align: middle;\n",
       "    }\n",
       "\n",
       "    .dataframe tbody tr th {\n",
       "        vertical-align: top;\n",
       "    }\n",
       "\n",
       "    .dataframe thead th {\n",
       "        text-align: right;\n",
       "    }\n",
       "</style>\n",
       "<table border=\"1\" class=\"dataframe\">\n",
       "  <thead>\n",
       "    <tr style=\"text-align: right;\">\n",
       "      <th></th>\n",
       "      <th>IPAddress</th>\n",
       "      <th>ParticipantUuid</th>\n",
       "      <th>ExperimentalCondition</th>\n",
       "      <th>VRmode</th>\n",
       "      <th>SteeringInputDevice</th>\n",
       "      <th>EyeValidationError</th>\n",
       "      <th>SeatCalibrationOffset</th>\n",
       "      <th>TrainingDuration</th>\n",
       "      <th>ExperimentDuration</th>\n",
       "      <th>ApplicationDuration</th>\n",
       "      <th>AverageExperimentFPS</th>\n",
       "      <th>SpecialNotes</th>\n",
       "      <th>EyeValidationError.x</th>\n",
       "      <th>EyeValidationError.y</th>\n",
       "      <th>EyeValidationError.z</th>\n",
       "      <th>SeatCalibrationOffset.x</th>\n",
       "      <th>SeatCalibrationOffset.y</th>\n",
       "      <th>SeatCalibrationOffset.z</th>\n",
       "    </tr>\n",
       "  </thead>\n",
       "  <tbody>\n",
       "    <tr>\n",
       "      <th>0</th>\n",
       "      <td>192.168.1.3</td>\n",
       "      <td>650f21c9fdb44f7cbba0c87e35ef6b34</td>\n",
       "      <td>SemiAutonomous</td>\n",
       "      <td>True</td>\n",
       "      <td>SteeringWheel</td>\n",
       "      <td>{'x': 6.7606916427612305, 'y': 7.2890563011169...</td>\n",
       "      <td>{'x': 0.06680801510810852, 'y': -0.99347853660...</td>\n",
       "      <td>212.496843</td>\n",
       "      <td>-1636211424.158283</td>\n",
       "      <td>-1636210182.38672</td>\n",
       "      <td>84.916779</td>\n",
       "      <td></td>\n",
       "      <td>6.760692</td>\n",
       "      <td>7.289056</td>\n",
       "      <td>3.284392</td>\n",
       "      <td>0.066808</td>\n",
       "      <td>-0.993479</td>\n",
       "      <td>0.012546</td>\n",
       "    </tr>\n",
       "  </tbody>\n",
       "</table>\n",
       "</div>"
      ],
      "text/plain": [
       "     IPAddress                   ParticipantUuid ExperimentalCondition VRmode  \\\n",
       "0  192.168.1.3  650f21c9fdb44f7cbba0c87e35ef6b34        SemiAutonomous   True   \n",
       "\n",
       "  SteeringInputDevice                                 EyeValidationError  \\\n",
       "0       SteeringWheel  {'x': 6.7606916427612305, 'y': 7.2890563011169...   \n",
       "\n",
       "                               SeatCalibrationOffset TrainingDuration  \\\n",
       "0  {'x': 0.06680801510810852, 'y': -0.99347853660...       212.496843   \n",
       "\n",
       "  ExperimentDuration ApplicationDuration AverageExperimentFPS SpecialNotes  \\\n",
       "0 -1636211424.158283   -1636210182.38672            84.916779                \n",
       "\n",
       "   EyeValidationError.x  EyeValidationError.y  EyeValidationError.z  \\\n",
       "0              6.760692              7.289056              3.284392   \n",
       "\n",
       "   SeatCalibrationOffset.x  SeatCalibrationOffset.y  SeatCalibrationOffset.z  \n",
       "0                 0.066808                -0.993479                 0.012546  "
      ]
     },
     "metadata": {},
     "output_type": "display_data"
    }
   ],
   "source": [
    "#Samples_df is of type DataFrame\n",
    "part_samples_df = pd.DataFrame()\n",
    "\n",
    "files = glob.glob(f'{PARTICIPANT_DATA_PATH}/*.txt')\n",
    "#display(files)\n",
    "\n",
    "for fi in files[2:3]: # reading only one file for now\n",
    "    with open(fi, 'r') as j:\n",
    "        tmp = json.loads(j.read())\n",
    "        tempdf0 = pd.DataFrame.from_dict(tmp,orient='index').T        \n",
    "        tempdf0[[\"EyeValidationError.x\",\"EyeValidationError.y\",\"EyeValidationError.z\"]] = pd.DataFrame(tempdf0[\"EyeValidationError\"].to_list(), columns=['x', 'y','z'])\n",
    "        tempdf0[[\"SeatCalibrationOffset.x\",\"SeatCalibrationOffset.y\",\"SeatCalibrationOffset.z\"]] = pd.DataFrame(tempdf0[\"SeatCalibrationOffset\"].to_list(), columns=['x', 'y','z'])\n",
    "        part_samples_df = pd.concat([part_samples_df, tempdf0], ignore_index=True)\n",
    "        \n",
    "display(part_samples_df)"
   ]
  },
  {
   "cell_type": "markdown",
   "metadata": {},
   "source": [
    "## Event Data Check"
   ]
  },
  {
   "cell_type": "code",
   "execution_count": 36,
   "metadata": {},
   "outputs": [],
   "source": [
    "event_samples_df = pd.DataFrame()\n",
    "interims_df = pd.DataFrame()\n",
    "Event_dur_df = pd.DataFrame()\n",
    "#pd.set_option(\"display.max_colwidth\", -1)\n",
    "\n",
    "files = glob.glob(f'{SCENE_EVENT_DATA_PATH}/*.txt')\n",
    "for fi in files[2:3]: # reading only one file for now\n",
    "    with open(fi, 'r') as j:\n",
    "        tmp = json.loads(j.read())\n",
    "        x = tmp.get('EventBehavior')\n",
    "        for i in range(len(x)):\n",
    "            tmpdf = pd.json_normalize(data=x[i], sep='_')\n",
    "            interims_df = tmpdf[['EventName', 'StartofEventTimeStamp', 'EndOfEventTimeStamp',\n",
    "       'EventDuration', 'SuccessfulCompletionState', 'HitObjectName']]\n",
    "            Event_dur_df = pd.concat([Event_dur_df,interims_df],ignore_index = True)\n",
    "            tmpdf2 = pd.json_normalize(tmpdf[\"dynamicObjectData\"])\n",
    "            for nS, sample in enumerate(tmpdf2):\n",
    "                temp = list(tmpdf2[nS])\n",
    "                tmpdf3 = pd.json_normalize(data=temp, sep='_')\n",
    "                tmpdf3['uid'] = fi.split('\\\\')[-1].split('_')[0]\n",
    "                tmpdf3['scene'] = fi.split('_')[-1].split('.')[0]\n",
    "                tmpdf3[['EventName', 'StartofEventTimeStamp', 'EndOfEventTimeStamp',\n",
    "       'EventDuration', 'SuccessfulCompletionState', 'HitObjectName']] = interims_df[['EventName', 'StartofEventTimeStamp', 'EndOfEventTimeStamp',\n",
    "       'EventDuration', 'SuccessfulCompletionState', 'HitObjectName']]\n",
    "                event_samples_df = pd.concat([event_samples_df, tmpdf3], ignore_index=True)\n",
    "                \n",
    "event_samples_df['timestamp'] = pd.to_datetime(event_samples_df.UnixTimeStamp, utc=True, unit='s', origin='unix')\n",
    "event_samples_df['StartofEventTime'] = pd.to_datetime(event_samples_df.StartofEventTimeStamp, utc=True, unit='s', origin='unix')\n",
    "event_samples_df['EndofEventTime'] = pd.to_datetime(event_samples_df.EndOfEventTimeStamp, utc=True, unit='s', origin='unix')\n",
    "\n",
    "#pd.set_option('display.max_columns', event_samples_df.shape[0]+1)\n",
    "#display(event_samples_df)"
   ]
  },
  {
   "cell_type": "markdown",
   "metadata": {},
   "source": [
    "### Get Event Time frames"
   ]
  },
  {
   "cell_type": "code",
   "execution_count": 39,
   "metadata": {},
   "outputs": [
    {
     "ename": "TypeError",
     "evalue": "'int' object is not subscriptable",
     "output_type": "error",
     "traceback": [
      "\u001b[1;31m---------------------------------------------------------------------------\u001b[0m",
      "\u001b[1;31mTypeError\u001b[0m                                 Traceback (most recent call last)",
      "\u001b[1;32mC:\\Users\\MAXPIN~1\\AppData\\Local\\Temp/ipykernel_9768/2262389268.py\u001b[0m in \u001b[0;36m<module>\u001b[1;34m\u001b[0m\n\u001b[1;32m----> 1\u001b[1;33m \u001b[0mStart\u001b[0m \u001b[1;33m=\u001b[0m \u001b[0met_samples_df\u001b[0m\u001b[1;33m[\u001b[0m\u001b[0mindex\u001b[0m\u001b[1;33m[\u001b[0m\u001b[1;36m0\u001b[0m\u001b[1;33m]\u001b[0m\u001b[1;33m]\u001b[0m\u001b[1;33m\u001b[0m\u001b[1;33m\u001b[0m\u001b[0m\n\u001b[0m\u001b[0;32m      2\u001b[0m \u001b[0mEvent_dur_df\u001b[0m\u001b[1;33m\u001b[0m\u001b[1;33m\u001b[0m\u001b[0m\n",
      "\u001b[1;31mTypeError\u001b[0m: 'int' object is not subscriptable"
     ]
    }
   ],
   "source": [
    "Start = et_samples_df[index[0]]\n",
    "Event_dur_df "
   ]
  },
  {
   "cell_type": "code",
   "execution_count": null,
   "metadata": {
    "ExecuteTime": {
     "end_time": "2020-09-17T15:15:15.471837Z",
     "start_time": "2020-09-17T15:15:15.455879Z"
    }
   },
   "outputs": [],
   "source": [
    "et_samples_df.scene.unique()\n",
    "#event_samples_df.scene.unique()"
   ]
  },
  {
   "cell_type": "code",
   "execution_count": null,
   "metadata": {
    "ExecuteTime": {
     "end_time": "2020-09-17T15:15:19.927151Z",
     "start_time": "2020-09-17T15:15:19.917176Z"
    }
   },
   "outputs": [],
   "source": [
    "et_samples_df.columns"
   ]
  },
  {
   "cell_type": "markdown",
   "metadata": {},
   "source": [
    "### eye velocity"
   ]
  },
  {
   "cell_type": "code",
   "execution_count": 8,
   "metadata": {
    "ExecuteTime": {
     "end_time": "2020-09-17T15:43:38.388511Z",
     "start_time": "2020-09-17T15:43:38.293772Z"
    }
   },
   "outputs": [],
   "source": [
    "# Calculate head & eye angles\n",
    "# read up on arctan\n",
    "et_samples_df.reset_index(inplace=False)\n",
    "et_samples_df['eye_theta_h'] = np.arctan2(et_samples_df['EyeDirectionCombinedWorld_x'], \n",
    "                                       et_samples_df['EyeDirectionCombinedWorld_z'])\n",
    "et_samples_df['eye_theta_v'] = np.arctan2(et_samples_df['EyeDirectionCombinedWorld_y'], \n",
    "                                       et_samples_df['EyeDirectionCombinedWorld_z'])\n",
    "\n",
    "et_samples_df['head_theta_h'] = np.arctan2(et_samples_df['NoseVector_x'], \n",
    "                                        et_samples_df['NoseVector_z'])\n",
    "et_samples_df['head_theta_v'] = np.arctan2(et_samples_df['NoseVector_y'],\n",
    "                                        et_samples_df['NoseVector_z'])\n",
    "\n",
    "# Calculate head & eye velocity\n",
    "et_samples_df['eye_vel_h'] = (et_samples_df\n",
    "                                .groupby(['uid', 'scene'])\n",
    "                                .eye_theta_h\n",
    "                                .apply(lambda x: x.diff())\n",
    "                          )/(et_samples_df\n",
    "                                .groupby(['uid', 'scene'])\n",
    "                                .timestamp\n",
    "                                .apply(lambda x: x.diff()/np.timedelta64(1, 's')))\n",
    "\n",
    "et_samples_df['eye_vel_v'] = (et_samples_df\n",
    "                                .groupby(['uid', 'scene'])\n",
    "                                .eye_theta_v\n",
    "                                .apply(lambda x: x.diff())\n",
    "                          )/(et_samples_df\n",
    "                                .groupby(['uid', 'scene'])\n",
    "                                .timestamp\n",
    "                                .apply(lambda x: x.diff()/np.timedelta64(1, 's')))\n",
    "\n",
    "et_samples_df['head_vel_h'] = (et_samples_df\n",
    "                                .groupby(['uid', 'scene'])\n",
    "                                .head_theta_h\n",
    "                                .apply(lambda x: x.diff())\n",
    "                          )/(et_samples_df\n",
    "                                .groupby(['uid', 'scene'])\n",
    "                                .timestamp\n",
    "                                .apply(lambda x: x.diff()/np.timedelta64(1, 's')))\n",
    "\n",
    "et_samples_df['head_vel_v'] = (et_samples_df\n",
    "                                .groupby(['uid', 'scene'])\n",
    "                                .head_theta_v\n",
    "                                .apply(lambda x: x.diff())\n",
    "                          )/(et_samples_df\n",
    "                                .groupby(['uid', 'scene'])\n",
    "                                .timestamp\n",
    "                                .apply(lambda x: x.diff()/np.timedelta64(1, 's')))\n"
   ]
  },
  {
   "cell_type": "code",
   "execution_count": 9,
   "metadata": {
    "ExecuteTime": {
     "end_time": "2020-09-17T15:43:46.378896Z",
     "start_time": "2020-09-17T15:43:46.365934Z"
    }
   },
   "outputs": [],
   "source": [
    "et_samples_df['eye_angular_vel'] =np.sqrt(et_samples_df.eye_vel_h**2 + et_samples_df.eye_vel_v**2)\n",
    "et_samples_df['head_angular_vel'] =np.sqrt(et_samples_df.head_vel_h**2 + et_samples_df.head_vel_v**2)"
   ]
  },
  {
   "cell_type": "code",
   "execution_count": 10,
   "metadata": {
    "ExecuteTime": {
     "end_time": "2020-09-17T15:43:53.181742Z",
     "start_time": "2020-09-17T15:43:53.153817Z"
    }
   },
   "outputs": [],
   "source": [
    "et_samples_df.dropna(axis=0,subset=['eye_angular_vel', 'eye_vel_h', 'head_angular_vel', 'head_vel_h'], inplace=True)"
   ]
  },
  {
   "cell_type": "code",
   "execution_count": 11,
   "metadata": {},
   "outputs": [
    {
     "data": {
      "text/html": [
       "<div>\n",
       "<style scoped>\n",
       "    .dataframe tbody tr th:only-of-type {\n",
       "        vertical-align: middle;\n",
       "    }\n",
       "\n",
       "    .dataframe tbody tr th {\n",
       "        vertical-align: top;\n",
       "    }\n",
       "\n",
       "    .dataframe thead th {\n",
       "        text-align: right;\n",
       "    }\n",
       "</style>\n",
       "<table border=\"1\" class=\"dataframe\">\n",
       "  <thead>\n",
       "    <tr style=\"text-align: right;\">\n",
       "      <th></th>\n",
       "      <th>TimeStamp</th>\n",
       "      <th>ReceivedInput</th>\n",
       "      <th>SteeringInput</th>\n",
       "      <th>AcellerationInput</th>\n",
       "      <th>BrakeInput</th>\n",
       "      <th>uid</th>\n",
       "      <th>scene</th>\n",
       "      <th>UnixTimeStamp</th>\n",
       "      <th>TobiiTimeStamp</th>\n",
       "      <th>FPS</th>\n",
       "      <th>...</th>\n",
       "      <th>eye_theta_v</th>\n",
       "      <th>head_theta_h</th>\n",
       "      <th>head_theta_v</th>\n",
       "      <th>eye_vel_h</th>\n",
       "      <th>eye_vel_v</th>\n",
       "      <th>head_vel_h</th>\n",
       "      <th>head_vel_v</th>\n",
       "      <th>eye_angular_vel</th>\n",
       "      <th>head_angular_vel</th>\n",
       "      <th>time_from_start</th>\n",
       "    </tr>\n",
       "    <tr>\n",
       "      <th>timestamp</th>\n",
       "      <th></th>\n",
       "      <th></th>\n",
       "      <th></th>\n",
       "      <th></th>\n",
       "      <th></th>\n",
       "      <th></th>\n",
       "      <th></th>\n",
       "      <th></th>\n",
       "      <th></th>\n",
       "      <th></th>\n",
       "      <th></th>\n",
       "      <th></th>\n",
       "      <th></th>\n",
       "      <th></th>\n",
       "      <th></th>\n",
       "      <th></th>\n",
       "      <th></th>\n",
       "      <th></th>\n",
       "      <th></th>\n",
       "      <th></th>\n",
       "      <th></th>\n",
       "    </tr>\n",
       "  </thead>\n",
       "  <tbody>\n",
       "    <tr>\n",
       "      <th>2021-11-06 12:53:49.123492096+00:00</th>\n",
       "      <td>1.636203e+09</td>\n",
       "      <td>True</td>\n",
       "      <td>0.000000</td>\n",
       "      <td>1.0</td>\n",
       "      <td>0.0</td>\n",
       "      <td>2e0a0e94ea7a477b93b7c44301bdc516</td>\n",
       "      <td>MountainRoad</td>\n",
       "      <td>1.636203e+09</td>\n",
       "      <td>0.000000</td>\n",
       "      <td>9.065306</td>\n",
       "      <td>...</td>\n",
       "      <td>-2.485630</td>\n",
       "      <td>1.312401</td>\n",
       "      <td>-0.083835</td>\n",
       "      <td>-85.193939</td>\n",
       "      <td>-70.690774</td>\n",
       "      <td>-84.438984</td>\n",
       "      <td>-290.196175</td>\n",
       "      <td>110.703174</td>\n",
       "      <td>302.231306</td>\n",
       "      <td>0.000000</td>\n",
       "    </tr>\n",
       "    <tr>\n",
       "      <th>2021-11-06 12:53:49.153211904+00:00</th>\n",
       "      <td>1.636203e+09</td>\n",
       "      <td>True</td>\n",
       "      <td>0.000000</td>\n",
       "      <td>1.0</td>\n",
       "      <td>0.0</td>\n",
       "      <td>2e0a0e94ea7a477b93b7c44301bdc516</td>\n",
       "      <td>MountainRoad</td>\n",
       "      <td>1.636203e+09</td>\n",
       "      <td>8933.103516</td>\n",
       "      <td>10.832970</td>\n",
       "      <td>...</td>\n",
       "      <td>0.350346</td>\n",
       "      <td>1.303543</td>\n",
       "      <td>-0.042306</td>\n",
       "      <td>131.001792</td>\n",
       "      <td>95.423749</td>\n",
       "      <td>-0.298075</td>\n",
       "      <td>1.397341</td>\n",
       "      <td>162.071470</td>\n",
       "      <td>1.428779</td>\n",
       "      <td>0.029720</td>\n",
       "    </tr>\n",
       "    <tr>\n",
       "      <th>2021-11-06 12:53:49.175388928+00:00</th>\n",
       "      <td>1.636203e+09</td>\n",
       "      <td>True</td>\n",
       "      <td>0.000000</td>\n",
       "      <td>1.0</td>\n",
       "      <td>0.0</td>\n",
       "      <td>2e0a0e94ea7a477b93b7c44301bdc516</td>\n",
       "      <td>MountainRoad</td>\n",
       "      <td>1.636203e+09</td>\n",
       "      <td>8933.125977</td>\n",
       "      <td>11.721654</td>\n",
       "      <td>...</td>\n",
       "      <td>0.739266</td>\n",
       "      <td>1.300616</td>\n",
       "      <td>-0.025265</td>\n",
       "      <td>9.259368</td>\n",
       "      <td>17.537093</td>\n",
       "      <td>-0.131987</td>\n",
       "      <td>0.768430</td>\n",
       "      <td>19.831427</td>\n",
       "      <td>0.779683</td>\n",
       "      <td>0.051897</td>\n",
       "    </tr>\n",
       "    <tr>\n",
       "      <th>2021-11-06 12:53:49.187084032+00:00</th>\n",
       "      <td>1.636203e+09</td>\n",
       "      <td>True</td>\n",
       "      <td>0.000000</td>\n",
       "      <td>1.0</td>\n",
       "      <td>0.0</td>\n",
       "      <td>2e0a0e94ea7a477b93b7c44301bdc516</td>\n",
       "      <td>MountainRoad</td>\n",
       "      <td>1.636203e+09</td>\n",
       "      <td>8933.136719</td>\n",
       "      <td>12.838237</td>\n",
       "      <td>...</td>\n",
       "      <td>0.743537</td>\n",
       "      <td>1.299349</td>\n",
       "      <td>-0.018267</td>\n",
       "      <td>-0.104812</td>\n",
       "      <td>0.365189</td>\n",
       "      <td>-0.108289</td>\n",
       "      <td>0.598388</td>\n",
       "      <td>0.379933</td>\n",
       "      <td>0.608107</td>\n",
       "      <td>0.063592</td>\n",
       "    </tr>\n",
       "    <tr>\n",
       "      <th>2021-11-06 12:53:49.209478400+00:00</th>\n",
       "      <td>1.636203e+09</td>\n",
       "      <td>True</td>\n",
       "      <td>0.000000</td>\n",
       "      <td>1.0</td>\n",
       "      <td>0.0</td>\n",
       "      <td>2e0a0e94ea7a477b93b7c44301bdc516</td>\n",
       "      <td>MountainRoad</td>\n",
       "      <td>1.636203e+09</td>\n",
       "      <td>8933.160156</td>\n",
       "      <td>13.814822</td>\n",
       "      <td>...</td>\n",
       "      <td>0.510107</td>\n",
       "      <td>1.298074</td>\n",
       "      <td>-0.010282</td>\n",
       "      <td>-1.525523</td>\n",
       "      <td>-10.423627</td>\n",
       "      <td>-0.056962</td>\n",
       "      <td>0.356540</td>\n",
       "      <td>10.534668</td>\n",
       "      <td>0.361062</td>\n",
       "      <td>0.085986</td>\n",
       "    </tr>\n",
       "    <tr>\n",
       "      <th>...</th>\n",
       "      <td>...</td>\n",
       "      <td>...</td>\n",
       "      <td>...</td>\n",
       "      <td>...</td>\n",
       "      <td>...</td>\n",
       "      <td>...</td>\n",
       "      <td>...</td>\n",
       "      <td>...</td>\n",
       "      <td>...</td>\n",
       "      <td>...</td>\n",
       "      <td>...</td>\n",
       "      <td>...</td>\n",
       "      <td>...</td>\n",
       "      <td>...</td>\n",
       "      <td>...</td>\n",
       "      <td>...</td>\n",
       "      <td>...</td>\n",
       "      <td>...</td>\n",
       "      <td>...</td>\n",
       "      <td>...</td>\n",
       "      <td>...</td>\n",
       "    </tr>\n",
       "    <tr>\n",
       "      <th>2021-11-06 12:55:57.628179968+00:00</th>\n",
       "      <td>1.636203e+09</td>\n",
       "      <td>True</td>\n",
       "      <td>-0.032343</td>\n",
       "      <td>0.0</td>\n",
       "      <td>0.0</td>\n",
       "      <td>2e0a0e94ea7a477b93b7c44301bdc516</td>\n",
       "      <td>MountainRoad</td>\n",
       "      <td>1.636203e+09</td>\n",
       "      <td>9061.577148</td>\n",
       "      <td>45.083866</td>\n",
       "      <td>...</td>\n",
       "      <td>3.106004</td>\n",
       "      <td>-2.584858</td>\n",
       "      <td>-3.115854</td>\n",
       "      <td>-5.434012</td>\n",
       "      <td>0.309427</td>\n",
       "      <td>0.269683</td>\n",
       "      <td>-0.280072</td>\n",
       "      <td>5.442814</td>\n",
       "      <td>0.388805</td>\n",
       "      <td>128.504688</td>\n",
       "    </tr>\n",
       "    <tr>\n",
       "      <th>2021-11-06 12:55:57.650121216+00:00</th>\n",
       "      <td>1.636203e+09</td>\n",
       "      <td>True</td>\n",
       "      <td>-0.028188</td>\n",
       "      <td>0.0</td>\n",
       "      <td>0.0</td>\n",
       "      <td>2e0a0e94ea7a477b93b7c44301bdc516</td>\n",
       "      <td>MountainRoad</td>\n",
       "      <td>1.636203e+09</td>\n",
       "      <td>9061.600586</td>\n",
       "      <td>44.899776</td>\n",
       "      <td>...</td>\n",
       "      <td>3.116029</td>\n",
       "      <td>-2.576602</td>\n",
       "      <td>-3.122132</td>\n",
       "      <td>1.410931</td>\n",
       "      <td>0.456929</td>\n",
       "      <td>0.376248</td>\n",
       "      <td>-0.286113</td>\n",
       "      <td>1.483075</td>\n",
       "      <td>0.472677</td>\n",
       "      <td>128.526629</td>\n",
       "    </tr>\n",
       "    <tr>\n",
       "      <th>2021-11-06 12:55:57.672064512+00:00</th>\n",
       "      <td>1.636203e+09</td>\n",
       "      <td>True</td>\n",
       "      <td>-0.024003</td>\n",
       "      <td>0.0</td>\n",
       "      <td>0.0</td>\n",
       "      <td>2e0a0e94ea7a477b93b7c44301bdc516</td>\n",
       "      <td>MountainRoad</td>\n",
       "      <td>1.636203e+09</td>\n",
       "      <td>9061.622070</td>\n",
       "      <td>45.010735</td>\n",
       "      <td>...</td>\n",
       "      <td>2.997454</td>\n",
       "      <td>-2.564315</td>\n",
       "      <td>-3.128075</td>\n",
       "      <td>18.464413</td>\n",
       "      <td>-5.403717</td>\n",
       "      <td>0.559955</td>\n",
       "      <td>-0.270847</td>\n",
       "      <td>19.238885</td>\n",
       "      <td>0.622019</td>\n",
       "      <td>128.548572</td>\n",
       "    </tr>\n",
       "    <tr>\n",
       "      <th>2021-11-06 12:55:57.695997440+00:00</th>\n",
       "      <td>1.636203e+09</td>\n",
       "      <td>True</td>\n",
       "      <td>-0.020307</td>\n",
       "      <td>0.0</td>\n",
       "      <td>0.0</td>\n",
       "      <td>2e0a0e94ea7a477b93b7c44301bdc516</td>\n",
       "      <td>MountainRoad</td>\n",
       "      <td>1.636203e+09</td>\n",
       "      <td>9061.644531</td>\n",
       "      <td>45.004238</td>\n",
       "      <td>...</td>\n",
       "      <td>3.018343</td>\n",
       "      <td>-2.551064</td>\n",
       "      <td>-3.131009</td>\n",
       "      <td>-0.209748</td>\n",
       "      <td>0.872814</td>\n",
       "      <td>0.553660</td>\n",
       "      <td>-0.122590</td>\n",
       "      <td>0.897663</td>\n",
       "      <td>0.567069</td>\n",
       "      <td>128.572505</td>\n",
       "    </tr>\n",
       "    <tr>\n",
       "      <th>2021-11-06 12:55:57.715945472+00:00</th>\n",
       "      <td>1.636203e+09</td>\n",
       "      <td>True</td>\n",
       "      <td>-0.017068</td>\n",
       "      <td>0.0</td>\n",
       "      <td>0.0</td>\n",
       "      <td>2e0a0e94ea7a477b93b7c44301bdc516</td>\n",
       "      <td>MountainRoad</td>\n",
       "      <td>1.636203e+09</td>\n",
       "      <td>9061.666016</td>\n",
       "      <td>45.099617</td>\n",
       "      <td>...</td>\n",
       "      <td>3.009483</td>\n",
       "      <td>-2.538980</td>\n",
       "      <td>-3.133742</td>\n",
       "      <td>0.320845</td>\n",
       "      <td>-0.444182</td>\n",
       "      <td>0.605810</td>\n",
       "      <td>-0.136983</td>\n",
       "      <td>0.547940</td>\n",
       "      <td>0.621104</td>\n",
       "      <td>128.592453</td>\n",
       "    </tr>\n",
       "  </tbody>\n",
       "</table>\n",
       "<p>6788 rows × 95 columns</p>\n",
       "</div>"
      ],
      "text/plain": [
       "                                        TimeStamp  ReceivedInput  \\\n",
       "timestamp                                                          \n",
       "2021-11-06 12:53:49.123492096+00:00  1.636203e+09           True   \n",
       "2021-11-06 12:53:49.153211904+00:00  1.636203e+09           True   \n",
       "2021-11-06 12:53:49.175388928+00:00  1.636203e+09           True   \n",
       "2021-11-06 12:53:49.187084032+00:00  1.636203e+09           True   \n",
       "2021-11-06 12:53:49.209478400+00:00  1.636203e+09           True   \n",
       "...                                           ...            ...   \n",
       "2021-11-06 12:55:57.628179968+00:00  1.636203e+09           True   \n",
       "2021-11-06 12:55:57.650121216+00:00  1.636203e+09           True   \n",
       "2021-11-06 12:55:57.672064512+00:00  1.636203e+09           True   \n",
       "2021-11-06 12:55:57.695997440+00:00  1.636203e+09           True   \n",
       "2021-11-06 12:55:57.715945472+00:00  1.636203e+09           True   \n",
       "\n",
       "                                     SteeringInput  AcellerationInput  \\\n",
       "timestamp                                                               \n",
       "2021-11-06 12:53:49.123492096+00:00       0.000000                1.0   \n",
       "2021-11-06 12:53:49.153211904+00:00       0.000000                1.0   \n",
       "2021-11-06 12:53:49.175388928+00:00       0.000000                1.0   \n",
       "2021-11-06 12:53:49.187084032+00:00       0.000000                1.0   \n",
       "2021-11-06 12:53:49.209478400+00:00       0.000000                1.0   \n",
       "...                                            ...                ...   \n",
       "2021-11-06 12:55:57.628179968+00:00      -0.032343                0.0   \n",
       "2021-11-06 12:55:57.650121216+00:00      -0.028188                0.0   \n",
       "2021-11-06 12:55:57.672064512+00:00      -0.024003                0.0   \n",
       "2021-11-06 12:55:57.695997440+00:00      -0.020307                0.0   \n",
       "2021-11-06 12:55:57.715945472+00:00      -0.017068                0.0   \n",
       "\n",
       "                                     BrakeInput  \\\n",
       "timestamp                                         \n",
       "2021-11-06 12:53:49.123492096+00:00         0.0   \n",
       "2021-11-06 12:53:49.153211904+00:00         0.0   \n",
       "2021-11-06 12:53:49.175388928+00:00         0.0   \n",
       "2021-11-06 12:53:49.187084032+00:00         0.0   \n",
       "2021-11-06 12:53:49.209478400+00:00         0.0   \n",
       "...                                         ...   \n",
       "2021-11-06 12:55:57.628179968+00:00         0.0   \n",
       "2021-11-06 12:55:57.650121216+00:00         0.0   \n",
       "2021-11-06 12:55:57.672064512+00:00         0.0   \n",
       "2021-11-06 12:55:57.695997440+00:00         0.0   \n",
       "2021-11-06 12:55:57.715945472+00:00         0.0   \n",
       "\n",
       "                                                                  uid  \\\n",
       "timestamp                                                               \n",
       "2021-11-06 12:53:49.123492096+00:00  2e0a0e94ea7a477b93b7c44301bdc516   \n",
       "2021-11-06 12:53:49.153211904+00:00  2e0a0e94ea7a477b93b7c44301bdc516   \n",
       "2021-11-06 12:53:49.175388928+00:00  2e0a0e94ea7a477b93b7c44301bdc516   \n",
       "2021-11-06 12:53:49.187084032+00:00  2e0a0e94ea7a477b93b7c44301bdc516   \n",
       "2021-11-06 12:53:49.209478400+00:00  2e0a0e94ea7a477b93b7c44301bdc516   \n",
       "...                                                               ...   \n",
       "2021-11-06 12:55:57.628179968+00:00  2e0a0e94ea7a477b93b7c44301bdc516   \n",
       "2021-11-06 12:55:57.650121216+00:00  2e0a0e94ea7a477b93b7c44301bdc516   \n",
       "2021-11-06 12:55:57.672064512+00:00  2e0a0e94ea7a477b93b7c44301bdc516   \n",
       "2021-11-06 12:55:57.695997440+00:00  2e0a0e94ea7a477b93b7c44301bdc516   \n",
       "2021-11-06 12:55:57.715945472+00:00  2e0a0e94ea7a477b93b7c44301bdc516   \n",
       "\n",
       "                                            scene  UnixTimeStamp  \\\n",
       "timestamp                                                          \n",
       "2021-11-06 12:53:49.123492096+00:00  MountainRoad   1.636203e+09   \n",
       "2021-11-06 12:53:49.153211904+00:00  MountainRoad   1.636203e+09   \n",
       "2021-11-06 12:53:49.175388928+00:00  MountainRoad   1.636203e+09   \n",
       "2021-11-06 12:53:49.187084032+00:00  MountainRoad   1.636203e+09   \n",
       "2021-11-06 12:53:49.209478400+00:00  MountainRoad   1.636203e+09   \n",
       "...                                           ...            ...   \n",
       "2021-11-06 12:55:57.628179968+00:00  MountainRoad   1.636203e+09   \n",
       "2021-11-06 12:55:57.650121216+00:00  MountainRoad   1.636203e+09   \n",
       "2021-11-06 12:55:57.672064512+00:00  MountainRoad   1.636203e+09   \n",
       "2021-11-06 12:55:57.695997440+00:00  MountainRoad   1.636203e+09   \n",
       "2021-11-06 12:55:57.715945472+00:00  MountainRoad   1.636203e+09   \n",
       "\n",
       "                                     TobiiTimeStamp        FPS  ...  \\\n",
       "timestamp                                                       ...   \n",
       "2021-11-06 12:53:49.123492096+00:00        0.000000   9.065306  ...   \n",
       "2021-11-06 12:53:49.153211904+00:00     8933.103516  10.832970  ...   \n",
       "2021-11-06 12:53:49.175388928+00:00     8933.125977  11.721654  ...   \n",
       "2021-11-06 12:53:49.187084032+00:00     8933.136719  12.838237  ...   \n",
       "2021-11-06 12:53:49.209478400+00:00     8933.160156  13.814822  ...   \n",
       "...                                             ...        ...  ...   \n",
       "2021-11-06 12:55:57.628179968+00:00     9061.577148  45.083866  ...   \n",
       "2021-11-06 12:55:57.650121216+00:00     9061.600586  44.899776  ...   \n",
       "2021-11-06 12:55:57.672064512+00:00     9061.622070  45.010735  ...   \n",
       "2021-11-06 12:55:57.695997440+00:00     9061.644531  45.004238  ...   \n",
       "2021-11-06 12:55:57.715945472+00:00     9061.666016  45.099617  ...   \n",
       "\n",
       "                                     eye_theta_v  head_theta_h  head_theta_v  \\\n",
       "timestamp                                                                      \n",
       "2021-11-06 12:53:49.123492096+00:00    -2.485630      1.312401     -0.083835   \n",
       "2021-11-06 12:53:49.153211904+00:00     0.350346      1.303543     -0.042306   \n",
       "2021-11-06 12:53:49.175388928+00:00     0.739266      1.300616     -0.025265   \n",
       "2021-11-06 12:53:49.187084032+00:00     0.743537      1.299349     -0.018267   \n",
       "2021-11-06 12:53:49.209478400+00:00     0.510107      1.298074     -0.010282   \n",
       "...                                          ...           ...           ...   \n",
       "2021-11-06 12:55:57.628179968+00:00     3.106004     -2.584858     -3.115854   \n",
       "2021-11-06 12:55:57.650121216+00:00     3.116029     -2.576602     -3.122132   \n",
       "2021-11-06 12:55:57.672064512+00:00     2.997454     -2.564315     -3.128075   \n",
       "2021-11-06 12:55:57.695997440+00:00     3.018343     -2.551064     -3.131009   \n",
       "2021-11-06 12:55:57.715945472+00:00     3.009483     -2.538980     -3.133742   \n",
       "\n",
       "                                      eye_vel_h  eye_vel_v  head_vel_h  \\\n",
       "timestamp                                                                \n",
       "2021-11-06 12:53:49.123492096+00:00  -85.193939 -70.690774  -84.438984   \n",
       "2021-11-06 12:53:49.153211904+00:00  131.001792  95.423749   -0.298075   \n",
       "2021-11-06 12:53:49.175388928+00:00    9.259368  17.537093   -0.131987   \n",
       "2021-11-06 12:53:49.187084032+00:00   -0.104812   0.365189   -0.108289   \n",
       "2021-11-06 12:53:49.209478400+00:00   -1.525523 -10.423627   -0.056962   \n",
       "...                                         ...        ...         ...   \n",
       "2021-11-06 12:55:57.628179968+00:00   -5.434012   0.309427    0.269683   \n",
       "2021-11-06 12:55:57.650121216+00:00    1.410931   0.456929    0.376248   \n",
       "2021-11-06 12:55:57.672064512+00:00   18.464413  -5.403717    0.559955   \n",
       "2021-11-06 12:55:57.695997440+00:00   -0.209748   0.872814    0.553660   \n",
       "2021-11-06 12:55:57.715945472+00:00    0.320845  -0.444182    0.605810   \n",
       "\n",
       "                                     head_vel_v  eye_angular_vel  \\\n",
       "timestamp                                                          \n",
       "2021-11-06 12:53:49.123492096+00:00 -290.196175       110.703174   \n",
       "2021-11-06 12:53:49.153211904+00:00    1.397341       162.071470   \n",
       "2021-11-06 12:53:49.175388928+00:00    0.768430        19.831427   \n",
       "2021-11-06 12:53:49.187084032+00:00    0.598388         0.379933   \n",
       "2021-11-06 12:53:49.209478400+00:00    0.356540        10.534668   \n",
       "...                                         ...              ...   \n",
       "2021-11-06 12:55:57.628179968+00:00   -0.280072         5.442814   \n",
       "2021-11-06 12:55:57.650121216+00:00   -0.286113         1.483075   \n",
       "2021-11-06 12:55:57.672064512+00:00   -0.270847        19.238885   \n",
       "2021-11-06 12:55:57.695997440+00:00   -0.122590         0.897663   \n",
       "2021-11-06 12:55:57.715945472+00:00   -0.136983         0.547940   \n",
       "\n",
       "                                    head_angular_vel  time_from_start  \n",
       "timestamp                                                              \n",
       "2021-11-06 12:53:49.123492096+00:00       302.231306         0.000000  \n",
       "2021-11-06 12:53:49.153211904+00:00         1.428779         0.029720  \n",
       "2021-11-06 12:53:49.175388928+00:00         0.779683         0.051897  \n",
       "2021-11-06 12:53:49.187084032+00:00         0.608107         0.063592  \n",
       "2021-11-06 12:53:49.209478400+00:00         0.361062         0.085986  \n",
       "...                                              ...              ...  \n",
       "2021-11-06 12:55:57.628179968+00:00         0.388805       128.504688  \n",
       "2021-11-06 12:55:57.650121216+00:00         0.472677       128.526629  \n",
       "2021-11-06 12:55:57.672064512+00:00         0.622019       128.548572  \n",
       "2021-11-06 12:55:57.695997440+00:00         0.567069       128.572505  \n",
       "2021-11-06 12:55:57.715945472+00:00         0.621104       128.592453  \n",
       "\n",
       "[6788 rows x 95 columns]"
      ]
     },
     "metadata": {},
     "output_type": "display_data"
    }
   ],
   "source": [
    "et_samples_df.set_index('timestamp', inplace=True)\n",
    "\n",
    "#create column which keeps track of time elapsed since trial start\n",
    "et_samples_df['time_from_start'] = (et_samples_df\n",
    "#                                    .reset_index()\n",
    "                                   .groupby(['uid','scene',], as_index=False)\n",
    "#                                    .timestamp\n",
    "                                   .transform(lambda x: \n",
    "                                              (x.index - x.index[0])/np.timedelta64(1,'s'))\n",
    "                                   .UnixTimeStamp\n",
    "                                  )\n",
    "\n",
    "display(et_samples_df)"
   ]
  },
  {
   "cell_type": "code",
   "execution_count": 12,
   "metadata": {},
   "outputs": [],
   "source": [
    "steering_df = et_samples_df"
   ]
  },
  {
   "cell_type": "markdown",
   "metadata": {},
   "source": [
    "## Steering data check"
   ]
  },
  {
   "cell_type": "markdown",
   "metadata": {},
   "source": [
    "### Check if timestamps allign\n"
   ]
  },
  {
   "cell_type": "code",
   "execution_count": null,
   "metadata": {
    "ExecuteTime": {
     "end_time": "2020-09-17T16:18:10.623844Z",
     "start_time": "2020-09-17T16:18:10.547403Z"
    }
   },
   "outputs": [],
   "source": [
    "steering_df.set_index('timestamp', inplace=True)\n",
    "#create column which keeps track of time elapsed since trial start\n",
    "steering_df['time_from_start'] = (steering_df\n",
    "#                                    .reset_index()\n",
    "                                   .groupby(['uid','scene',], as_index=False)\n",
    "#                                    .timestamp\n",
    "                                   .transform(lambda x: \n",
    "                                              (x.index - x.index[0])/np.timedelta64(1,'s'))\n",
    "                                   .TimeStamp\n",
    "                                  )\n",
    "\n"
   ]
  },
  {
   "cell_type": "code",
   "execution_count": 22,
   "metadata": {},
   "outputs": [
    {
     "data": {
      "text/plain": [
       "Index(['TimeStamp', 'ReceivedInput', 'SteeringInput', 'AcellerationInput',\n",
       "       'BrakeInput', 'uid', 'scene', 'UnixTimeStamp', 'TobiiTimeStamp', 'FPS',\n",
       "       'EyeOpennessLeftSranipal', 'EyeOpennessRightSranipal',\n",
       "       'pupilDiameterMillimetersLeft', 'pupilDiameterMillimetersRight',\n",
       "       'EyeBlinkingWorldLeftTobii', 'EyeBliningWorldRightTobii',\n",
       "       'EyeBlinkingLocalLeftTobii', 'EyeBlinkingLocalRightTobii', 'hitObjects',\n",
       "       'HmdPosition_x', 'HmdPosition_y', 'HmdPosition_z', 'NoseVector_x',\n",
       "       'NoseVector_y', 'NoseVector_z', 'HmdRotation_x', 'HmdRotation_y',\n",
       "       'HmdRotation_z', 'HmdRotation_w', 'EyePositionCombinedWorld_x',\n",
       "       'EyePositionCombinedWorld_y', 'EyePositionCombinedWorld_z',\n",
       "       'EyeDirectionCombinedWorld_x', 'EyeDirectionCombinedWorld_y',\n",
       "       'EyeDirectionCombinedWorld_z', 'EyePositionCombinedLocal_x',\n",
       "       'EyePositionCombinedLocal_y', 'EyePositionCombinedLocal_z',\n",
       "       'EyeDirectionCombinedLocal_x', 'EyeDirectionCombinedLocal_y',\n",
       "       'EyeDirectionCombinedLocal_z', 'EyePositionLeftWorld_x',\n",
       "       'EyePositionLeftWorld_y', 'EyePositionLeftWorld_z',\n",
       "       'EyeDirectionLeftWorld_x', 'EyeDirectionLeftWorld_y',\n",
       "       'EyeDirectionLeftWorld_z', 'EyePositionLeftLocal_x',\n",
       "       'EyePositionLeftLocal_y', 'EyePositionLeftLocal_z',\n",
       "       'EyeDirectionLeftLocal_x', 'EyeDirectionLeftLocal_y',\n",
       "       'EyeDirectionLeftLocal_z', 'EyePositionRightWorld_x',\n",
       "       'EyePositionRightWorld_y', 'EyePositionRightWorld_z',\n",
       "       'EyePositionRightLocal_x', 'EyePositionRightLocal_y',\n",
       "       'EyePositionRightLocal_z', 'EyeDirectionRightWorld_x',\n",
       "       'EyeDirectionRightWorld_y', 'EyeDirectionRightWorld_z',\n",
       "       'EyeDirectionRightLocal_x', 'EyeDirectionRightLocal_y',\n",
       "       'EyeDirectionRightLocal_z', 'EyePositionWorldCombinedTobii_x',\n",
       "       'EyePositionWorldCombinedTobii_y', 'EyePositionWorldCombinedTobii_z',\n",
       "       'EyePositionLocalCombinedTobii_x', 'EyePositionLocalCombinedTobii_y',\n",
       "       'EyePositionLocalCombinedTobii_z', 'EyeDirectionWorldCombinedTobii_x',\n",
       "       'EyeDirectionWorldCombinedTobii_y', 'EyeDirectionWorldCombinedTobii_z',\n",
       "       'EyeDirectionLocalCombinedTobii_x', 'EyeDirectionLocalCombinedTobii_y',\n",
       "       'EyeDirectionLocalCombinedTobii_z', 'CarPosition_x', 'CarPosition_y',\n",
       "       'CarPosition_z', 'CarRotation_x', 'CarRotation_y', 'CarRotation_z',\n",
       "       'CarRotation_w', 'eye_theta_h', 'eye_theta_v', 'head_theta_h',\n",
       "       'head_theta_v', 'eye_vel_h', 'eye_vel_v', 'head_vel_h', 'head_vel_v',\n",
       "       'eye_angular_vel', 'head_angular_vel', 'time_from_start'],\n",
       "      dtype='object')"
      ]
     },
     "metadata": {},
     "output_type": "display_data"
    }
   ],
   "source": [
    "display(steering_df.columns)"
   ]
  },
  {
   "cell_type": "code",
   "execution_count": null,
   "metadata": {
    "ExecuteTime": {
     "end_time": "2020-09-17T16:31:46.047340Z",
     "start_time": "2020-09-17T16:31:45.844250Z"
    }
   },
   "outputs": [],
   "source": [
    "(\n",
    "    steering_df\n",
    "    .reset_index()\n",
    "    .groupby('timestamp')\n",
    "    .size()\n",
    "    .plot(kind='hist')\n",
    ")"
   ]
  },
  {
   "cell_type": "code",
   "execution_count": 21,
   "metadata": {
    "ExecuteTime": {
     "end_time": "2020-09-17T17:31:44.316411Z",
     "start_time": "2020-09-17T17:31:41.939683Z"
    },
    "scrolled": false
   },
   "outputs": [
    {
     "data": {
      "application/vnd.jupyter.widget-view+json": {
       "model_id": "978d367fb09a477db6110b2f811abe57",
       "version_major": 2,
       "version_minor": 0
      },
      "text/plain": [
       "Canvas(toolbar=Toolbar(toolitems=[('Home', 'Reset original view', 'home', 'home'), ('Back', 'Back to previous …"
      ]
     },
     "metadata": {},
     "output_type": "display_data"
    }
   ],
   "source": [
    "\n",
    "for subjectID in steering_df.uid.unique():\n",
    "    for scene in steering_df.scene.unique():\n",
    "        tmpdf = steering_df.query('uid == @subjectID and scene == @scene')\n",
    "        tmpdf = tmpdf.drop_duplicates(subset=['time_from_start'], keep='first')\n",
    "\n",
    "        _, ax = plt.subplots(1, 1, figsize=(30,5), sharex=True, sharey=False)\n",
    "#         ax = ax.ravel()\n",
    "        (\n",
    "            tmpdf\n",
    "            .plot(\n",
    "                x='time_from_start',y='SteeringInput', kind='line', color='k', lw=3 ,\n",
    "                ax=ax, label='Steering', legend=True)\n",
    "        )\n",
    "        (\n",
    "            tmpdf\n",
    "            .plot(\n",
    "                x='time_from_start',y='AcellerationInput', kind='line', color='g', \n",
    "                ax=ax, label='Acceleration', legend=True)\n",
    "        )\n",
    "        \n",
    "        (\n",
    "            tmpdf\n",
    "            .plot(\n",
    "                x='time_from_start',y='BrakeInput', kind='line', color='r', \n",
    "                ax=ax, label='Brake', legend=True)\n",
    "        )\n",
    "        (\n",
    "            tmpdf\n",
    "            .plot(\n",
    "                x='time_from_start',y='eye_theta_v', kind='line', color='y', \n",
    "                ax=ax, label='Eyemovement-horicontal', legend=True)\n",
    "        )\n",
    "        \n",
    "        \n",
    "        #ax.set_ylabel(\"My ylabel\")\n",
    "\n",
    "        plt.suptitle(f'Scene: {scene}')\n",
    "        plt.savefig(f'{PLOT_PATH}/driving_behavior_{scene}.png', dpi=100)"
   ]
  }
 ],
 "metadata": {
  "kernelspec": {
   "display_name": "Python 3 (ipykernel)",
   "language": "python",
   "name": "python3"
  },
  "language_info": {
   "codemirror_mode": {
    "name": "ipython",
    "version": 3
   },
   "file_extension": ".py",
   "mimetype": "text/x-python",
   "name": "python",
   "nbconvert_exporter": "python",
   "pygments_lexer": "ipython3",
   "version": "3.8.12"
  },
  "toc": {
   "base_numbering": 1,
   "nav_menu": {},
   "number_sections": true,
   "sideBar": true,
   "skip_h1_title": false,
   "title_cell": "Table of Contents",
   "title_sidebar": "Contents",
   "toc_cell": false,
   "toc_position": {},
   "toc_section_display": true,
   "toc_window_display": false
  },
  "varInspector": {
   "cols": {
    "lenName": 16,
    "lenType": 16,
    "lenVar": 40
   },
   "kernels_config": {
    "python": {
     "delete_cmd_postfix": "",
     "delete_cmd_prefix": "del ",
     "library": "var_list.py",
     "varRefreshCmd": "print(var_dic_list())"
    },
    "r": {
     "delete_cmd_postfix": ") ",
     "delete_cmd_prefix": "rm(",
     "library": "var_list.r",
     "varRefreshCmd": "cat(var_dic_list()) "
    }
   },
   "types_to_exclude": [
    "module",
    "function",
    "builtin_function_or_method",
    "instance",
    "_Feature"
   ],
   "window_display": false
  }
 },
 "nbformat": 4,
 "nbformat_minor": 4
}
