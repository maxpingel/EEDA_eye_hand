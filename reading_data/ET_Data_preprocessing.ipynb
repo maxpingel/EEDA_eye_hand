{
 "cells": [
  {
   "cell_type": "code",
   "execution_count": 1,
   "id": "08d753d2",
   "metadata": {},
   "outputs": [],
   "source": [
    "\n",
    "%matplotlib widget\n",
    "import pandas as pd\n",
    "import seaborn as sns\n",
    "import matplotlib.pyplot as plt\n",
    "import glob\n",
    "from IPython.display import display\n",
    "import os\n",
    "import sys\n",
    "from datetime import date\n",
    "import json\n",
    "import numpy as np\n",
    "#print(os.getcwd())"
   ]
  },
  {
   "cell_type": "code",
   "execution_count": 2,
   "id": "b5097169",
   "metadata": {},
   "outputs": [],
   "source": [
    "ET_DATA_PATH = 'D:\\_MasterArbeit_EEDA\\EyeTracking'\n",
    "SCENE_EVENT_DATA_PATH = 'D:\\_MasterArbeit_EEDA\\SceneData'\n",
    "STEERING_DATA_PATH = 'D:\\_MasterArbeit_EEDA\\Input'\n",
    "PARTICIPANT_DATA_PATH = 'D:\\_MasterArbeit_EEDA\\ParticipantCalibrationData'\n",
    "PROCESSED_DATA_PATH = '..\\csv_et'\n",
    "PLOT_PATH = '..\\PLOTS\\data_quality'\n",
    "os.makedirs(os.path.dirname(PROCESSED_DATA_PATH),exist_ok=True)\n",
    "os.makedirs(os.path.dirname(PLOT_PATH), exist_ok=True)"
   ]
  },
  {
   "cell_type": "markdown",
   "id": "0359c514",
   "metadata": {},
   "source": [
    "### Filter EyeValidationError under 1.5"
   ]
  },
  {
   "cell_type": "code",
   "execution_count": 3,
   "id": "095aa32d",
   "metadata": {},
   "outputs": [
    {
     "data": {
      "text/html": [
       "<div>\n",
       "<style scoped>\n",
       "    .dataframe tbody tr th:only-of-type {\n",
       "        vertical-align: middle;\n",
       "    }\n",
       "\n",
       "    .dataframe tbody tr th {\n",
       "        vertical-align: top;\n",
       "    }\n",
       "\n",
       "    .dataframe thead th {\n",
       "        text-align: right;\n",
       "    }\n",
       "</style>\n",
       "<table border=\"1\" class=\"dataframe\">\n",
       "  <thead>\n",
       "    <tr style=\"text-align: right;\">\n",
       "      <th></th>\n",
       "      <th>ParticipantUuid</th>\n",
       "      <th>ExperimentalCondition</th>\n",
       "      <th>EyeValidationError.x</th>\n",
       "      <th>EyeValidationError.y</th>\n",
       "    </tr>\n",
       "  </thead>\n",
       "  <tbody>\n",
       "    <tr>\n",
       "      <th>0</th>\n",
       "      <td>489749a7e3394cdda22f5f2717a340a8</td>\n",
       "      <td>ManualDriving</td>\n",
       "      <td>0.516909</td>\n",
       "      <td>0.679336</td>\n",
       "    </tr>\n",
       "  </tbody>\n",
       "</table>\n",
       "</div>"
      ],
      "text/plain": [
       "                    ParticipantUuid ExperimentalCondition  \\\n",
       "0  489749a7e3394cdda22f5f2717a340a8         ManualDriving   \n",
       "\n",
       "   EyeValidationError.x  EyeValidationError.y  \n",
       "0              0.516909              0.679336  "
      ]
     },
     "metadata": {},
     "output_type": "display_data"
    }
   ],
   "source": [
    "df = pd.DataFrame()\n",
    "\n",
    "files = glob.glob(f'{PARTICIPANT_DATA_PATH}/*.txt')\n",
    "\n",
    "for fi in files[:4]: # reading all files\n",
    "    with open(fi, 'r') as j:\n",
    "        tmp = json.loads(j.read())\n",
    "        tempdf0 = pd.DataFrame.from_dict(tmp,orient='index').T        \n",
    "        tempdf0[[\"EyeValidationError.x\",\"EyeValidationError.y\",\"EyeValidationError.z\"]] = pd.DataFrame(tempdf0[\"EyeValidationError\"].to_list(), columns=['x', 'y','z'])\n",
    "        if(tempdf0[\"EyeValidationError.x\"][0]<1.5) and (tempdf0[\"EyeValidationError.y\"][0]<1.5):\n",
    "            df = pd.concat([df, tempdf0], ignore_index=True)\n",
    "        \n",
    "df = df.drop(['IPAddress', 'VRmode',\n",
    "       'SteeringInputDevice', 'EyeValidationError', 'SeatCalibrationOffset',\n",
    "       'TrainingDuration', 'ExperimentDuration', 'ApplicationDuration',\n",
    "       'AverageExperimentFPS', 'SpecialNotes', 'EyeValidationError.z'], axis=1)\n",
    "display(df)"
   ]
  },
  {
   "cell_type": "markdown",
   "id": "d8a92c93",
   "metadata": {},
   "source": [
    "### Check if Incomplete"
   ]
  },
  {
   "cell_type": "code",
   "execution_count": 4,
   "id": "de890054",
   "metadata": {},
   "outputs": [
    {
     "data": {
      "text/html": [
       "<div>\n",
       "<style scoped>\n",
       "    .dataframe tbody tr th:only-of-type {\n",
       "        vertical-align: middle;\n",
       "    }\n",
       "\n",
       "    .dataframe tbody tr th {\n",
       "        vertical-align: top;\n",
       "    }\n",
       "\n",
       "    .dataframe thead th {\n",
       "        text-align: right;\n",
       "    }\n",
       "</style>\n",
       "<table border=\"1\" class=\"dataframe\">\n",
       "  <thead>\n",
       "    <tr style=\"text-align: right;\">\n",
       "      <th></th>\n",
       "      <th>ParticipantUuid</th>\n",
       "      <th>ExperimentalCondition</th>\n",
       "      <th>EyeValidationError.x</th>\n",
       "      <th>EyeValidationError.y</th>\n",
       "    </tr>\n",
       "  </thead>\n",
       "  <tbody>\n",
       "    <tr>\n",
       "      <th>0</th>\n",
       "      <td>489749a7e3394cdda22f5f2717a340a8</td>\n",
       "      <td>ManualDriving</td>\n",
       "      <td>0.516909</td>\n",
       "      <td>0.679336</td>\n",
       "    </tr>\n",
       "  </tbody>\n",
       "</table>\n",
       "</div>"
      ],
      "text/plain": [
       "                    ParticipantUuid ExperimentalCondition  \\\n",
       "0  489749a7e3394cdda22f5f2717a340a8         ManualDriving   \n",
       "\n",
       "   EyeValidationError.x  EyeValidationError.y  \n",
       "0              0.516909              0.679336  "
      ]
     },
     "metadata": {},
     "output_type": "display_data"
    }
   ],
   "source": [
    "files = glob.glob(f'{ET_DATA_PATH}/*.txt')\n",
    "des_index = []\n",
    "for i in range(0,df['ParticipantUuid'].count()):\n",
    "    for fi in files[:]: # reading all files\n",
    "        #print (df['ParticipantUuid'][i])\n",
    "        if '_Incomplete' in fi:\n",
    "            if df['ParticipantUuid'][i] in fi:\n",
    "                if os.path.getsize(fi) < 10 : \n",
    "                    des_index.append(i)\n",
    "                    \n",
    "                \n",
    "df = df.iloc[des_index] \n",
    "df = df.reset_index(drop=True)\n",
    "display(df)"
   ]
  },
  {
   "cell_type": "markdown",
   "id": "30c06f7f",
   "metadata": {},
   "source": [
    "### Load Eyetracking Data"
   ]
  },
  {
   "cell_type": "code",
   "execution_count": null,
   "id": "20b96cde",
   "metadata": {},
   "outputs": [],
   "source": [
    "files = glob.glob(f'{ET_DATA_PATH}/*.txt')\n",
    "for i in range(0,df['ParticipantUuid'].count()):\n",
    "    et_df = pd.DataFrame()\n",
    "    for fi in files[:]: # reading all files\n",
    "        if df['ParticipantUuid'][i] in fi:\n",
    "            with open(fi, 'r') as j:\n",
    "                tmp = json.loads(j.read())\n",
    "            for nS, sample in enumerate(tmp):\n",
    "                tmpdf = pd.json_normalize(data=sample, sep='_')\n",
    "                tmpdf['uid'] = fi.split('\\\\')[-1].split('_')[0]\n",
    "                tmpdf['scene'] = fi.split('_')[-1].split('.')[0]\n",
    "                tmpdf = tmpdf.drop(['FPS','pupilDiameterMillimetersLeft', 'pupilDiameterMillimetersRight',\n",
    "       'EyeBlinkingWorldLeftTobii', 'EyeBliningWorldRightTobii',\n",
    "       'EyeBlinkingLocalLeftTobii', 'EyeBlinkingLocalRightTobii', 'hitObjects',\n",
    "       'HmdRotation_x', 'HmdRotation_y',\n",
    "       'HmdRotation_z', 'HmdRotation_w','EyePositionLeftWorld_x',\n",
    "       'EyePositionLeftWorld_y', 'EyePositionLeftWorld_z',\n",
    "       'EyeDirectionLeftWorld_x', 'EyeDirectionLeftWorld_y',\n",
    "       'EyeDirectionLeftWorld_z', 'EyePositionLeftLocal_x',\n",
    "       'EyePositionLeftLocal_y', 'EyePositionLeftLocal_z',\n",
    "       'EyeDirectionLeftLocal_x', 'EyeDirectionLeftLocal_y',\n",
    "       'EyeDirectionLeftLocal_z', 'EyePositionRightWorld_x',\n",
    "       'EyePositionRightWorld_y', 'EyePositionRightWorld_z',\n",
    "       'EyePositionRightLocal_x', 'EyePositionRightLocal_y',\n",
    "       'EyePositionRightLocal_z', 'EyeDirectionRightWorld_x',\n",
    "       'EyeDirectionRightWorld_y', 'EyeDirectionRightWorld_z',\n",
    "       'EyeDirectionRightLocal_x', 'EyeDirectionRightLocal_y',\n",
    "       'EyeDirectionRightLocal_z', 'EyePositionWorldCombinedTobii_x',\n",
    "       'EyePositionWorldCombinedTobii_y', 'EyePositionWorldCombinedTobii_z',\n",
    "       'EyePositionLocalCombinedTobii_x', 'EyePositionLocalCombinedTobii_y',\n",
    "       'EyePositionLocalCombinedTobii_z', 'EyeDirectionWorldCombinedTobii_x',\n",
    "       'EyeDirectionWorldCombinedTobii_y', 'EyeDirectionWorldCombinedTobii_z',\n",
    "       'EyeDirectionLocalCombinedTobii_x', 'EyeDirectionLocalCombinedTobii_y',\n",
    "       'EyeDirectionLocalCombinedTobii_z'],axis=1)\n",
    "                \n",
    "                et_df = pd.concat([et_df, tmpdf], ignore_index=True)\n",
    "                   \n",
    "    if not et_df.empty:\n",
    "        et_df = et_df.drop_duplicates()\n",
    "        et_df['timestamp'] = pd.to_datetime(et_df.UnixTimeStamp, utc=True, unit='s', origin='unix')\n",
    "        et_df = et_df.sort_values(by=['timestamp'])\n",
    "        et_df = et_df.reset_index(drop=True)\n",
    "        path = os.path.join(PROCESSED_DATA_PATH,df['ParticipantUuid'][i]+'.csv')\n",
    "        print(100/df['ParticipantUuid'].count()*(i+1),\"%\")\n",
    "        et_df.set_index('timestamp', inplace=True)\n",
    "        et_df['time_from_start'] = (et_df\n",
    "#                                    .reset_index()\n",
    "                                   .groupby(['uid','scene',], as_index=False)\n",
    "#                                    .timestamp\n",
    "                                   .transform(lambda x: \n",
    "                                              (x.index - x.index[0])/np.timedelta64(1,'s'))\n",
    "                                   .UnixTimeStamp\n",
    "                                   )\n",
    "        et_df = et_df.reset_index()\n",
    "        et_df[['EyeDirectionCombinedLocal_x_copy', 'EyeDirectionCombinedLocal_y_copy', 'EyeDirectionCombinedLocal_z_copy']]=et_df[['EyeDirectionCombinedLocal_x', 'EyeDirectionCombinedLocal_y', 'EyeDirectionCombinedLocal_z']]\n",
    "        et_df['is_blink'] = ((et_df['EyeOpennessLeftSranipal'] < 0.1)&(et_df['EyeOpennessRightSranipal'] < 0.1))\n",
    "        et_df.loc[(et_df['is_blink'] == True),['EyeDirectionCombinedLocal_x_copy', 'EyeDirectionCombinedLocal_y_copy', 'EyeDirectionCombinedLocal_z_copy']] = np.nan\n",
    "        \n",
    "        tmpdf = (et_df\n",
    "                 .groupby(['uid', 'scene'])['EyeDirectionCombinedLocal_x_copy', 'EyeDirectionCombinedLocal_y_copy', 'EyeDirectionCombinedLocal_z_copy']\n",
    "                 .transform(lambda x: \n",
    "                 x.interpolate(method='polynomial', order=3, limit_direction ='both'))\n",
    "                 .reset_index()\n",
    "                )\n",
    "        et_df[['combinedEyeDir_x_intp', 'combinedEyeDir_y_intp', 'combinedEyeDir_z_intp']] = tmpdf[['EyeDirectionCombinedLocal_x_copy', 'EyeDirectionCombinedLocal_y_copy', 'EyeDirectionCombinedLocal_z_copy']]\n",
    "\n",
    "\n",
    "        et_df.to_csv(path)"
   ]
  },
  {
   "cell_type": "markdown",
   "id": "15c76925",
   "metadata": {},
   "source": [
    "### Steeringwheel Data read and write"
   ]
  },
  {
   "cell_type": "code",
   "execution_count": 8,
   "id": "754e3639",
   "metadata": {},
   "outputs": [
    {
     "name": "stdout",
     "output_type": "stream",
     "text": [
      "asdw\n",
      "asdw\n",
      "asdw\n",
      "asdw\n",
      "asdw\n",
      "100.0 %\n"
     ]
    }
   ],
   "source": [
    "files = glob.glob(f'{STEERING_DATA_PATH}/*.txt')\n",
    "for i in range(0,df['ParticipantUuid'].count()):\n",
    "    et_df = pd.DataFrame()\n",
    "    for fi in files[:]: # reading all files\n",
    "        if df['ParticipantUuid'][i] in fi:\n",
    "            print(\"asdw\")\n",
    "            with open(fi, 'r') as j:\n",
    "                tmp = json.loads(j.read())\n",
    "            for nS, sample in enumerate(tmp):\n",
    "                tmpdf = pd.json_normalize(data=sample, sep='_')\n",
    "                tmpdf['uid'] = fi.split('\\\\')[-1].split('_')[0]\n",
    "                tmpdf['scene'] = fi.split('_')[-1].split('.')[0]\n",
    "                et_df = pd.concat([et_df, tmpdf], ignore_index=True)\n",
    "                #print(sample)\n",
    "    \n",
    "    if not et_df.empty:\n",
    "        et_df = et_df.drop_duplicates()\n",
    "        et_df['timestamp'] = pd.to_datetime(et_df.TimeStamp, utc=True, unit='s', origin='unix')\n",
    "        et_df = et_df.sort_values(by=['timestamp'])\n",
    "        et_df = et_df.reset_index(drop=True)\n",
    "        path = os.path.join(PROCESSED_DATA_PATH,df['ParticipantUuid'][i]+'_st_df'+'.csv')\n",
    "        print(100/df['ParticipantUuid'].count()*(i+1),\"%\")\n",
    "\n",
    "#display(et_df)"
   ]
  },
  {
   "cell_type": "code",
   "execution_count": null,
   "id": "8bfd9b15",
   "metadata": {},
   "outputs": [],
   "source": [
    "files = glob.glob(f'{PROCESSED_DATA_PATH}\\*.csv')\n",
    "et_int_df = pd.DataFrame()\n",
    "for fi in files[:]:\n",
    "    et_int_df = pd.read_csv(fi)\n",
    "    ax = et_int_df.plot(kind=\"scatter\", x=\"time_from_start\",y=\"EyeOpennessLeftSranipal\", color=\"b\", label=\"Left\")\n",
    "    et_int_df.plot(kind=\"scatter\",x=\"time_from_start\",y=\"EyeOpennessRightSranipal\", color=\"r\", label=\"Right\", ax=ax, alpha=0.4)"
   ]
  },
  {
   "cell_type": "code",
   "execution_count": null,
   "id": "deda348f",
   "metadata": {},
   "outputs": [],
   "source": []
  }
 ],
 "metadata": {
  "kernelspec": {
   "display_name": "Python 3 (ipykernel)",
   "language": "python",
   "name": "python3"
  },
  "language_info": {
   "codemirror_mode": {
    "name": "ipython",
    "version": 3
   },
   "file_extension": ".py",
   "mimetype": "text/x-python",
   "name": "python",
   "nbconvert_exporter": "python",
   "pygments_lexer": "ipython3",
   "version": "3.8.12"
  }
 },
 "nbformat": 4,
 "nbformat_minor": 5
}
