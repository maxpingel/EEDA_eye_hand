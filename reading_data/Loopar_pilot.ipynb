{
 "cells": [
  {
   "cell_type": "markdown",
   "metadata": {},
   "source": [
    "#  LoopAR Pilot Test"
   ]
  },
  {
   "cell_type": "code",
   "execution_count": 2,
   "metadata": {
    "ExecuteTime": {
     "end_time": "2020-09-17T14:51:57.292004Z",
     "start_time": "2020-09-17T14:51:56.471287Z"
    }
   },
   "outputs": [],
   "source": [
    "\n",
    "%matplotlib widget\n",
    "import pandas as pd\n",
    "import seaborn as sns\n",
    "import matplotlib.pyplot as plt\n",
    "import glob\n",
    "from IPython.display import display\n",
    "import os\n",
    "import sys\n",
    "from datetime import date\n",
    "import json\n",
    "import numpy as np\n",
    "#print(os.getcwd())"
   ]
  },
  {
   "cell_type": "markdown",
   "metadata": {},
   "source": [
    "### Defaults"
   ]
  },
  {
   "cell_type": "code",
   "execution_count": 3,
   "metadata": {
    "ExecuteTime": {
     "end_time": "2020-09-17T15:08:06.149427Z",
     "start_time": "2020-09-17T15:08:06.140454Z"
    }
   },
   "outputs": [],
   "source": [
    "ET_DATA_PATH = 'D:\\_MasterArbeit_EEDA\\EyeTracking'\n",
    "SCENE_EVENT_DATA_PATH = 'D:\\_MasterArbeit_EEDA\\SceneData'\n",
    "STEERING_DATA_PATH = 'D:\\_MasterArbeit_EEDA\\Input'\n",
    "PARTICIPANT_DATA_PATH = 'D:\\_MasterArbeit_EEDA\\ParticipantCalibrationData'\n",
    "PROCESSED_DATA_PATH = '../ProcessedData/'\n",
    "PLOT_PATH = '../PLOTS/data_quality/'\n",
    "\n",
    "os.makedirs(os.path.dirname(PROCESSED_DATA_PATH), exist_ok=True)\n",
    "os.makedirs(os.path.dirname(PLOT_PATH), exist_ok=True)"
   ]
  },
  {
   "cell_type": "markdown",
   "metadata": {},
   "source": [
    "## Eye Tracking Data Check"
   ]
  },
  {
   "cell_type": "code",
   "execution_count": 4,
   "metadata": {
    "ExecuteTime": {
     "end_time": "2020-09-17T15:13:24.277948Z",
     "start_time": "2020-09-17T15:09:44.764198Z"
    },
    "scrolled": true
   },
   "outputs": [
    {
     "data": {
      "text/plain": [
       "'D:\\\\_MasterArbeit_EEDA\\\\EyeTracking\\\\2e0a0e94ea7a477b93b7c44301bdc516_EyeTracking_MountainRoad.txt'"
      ]
     },
     "metadata": {},
     "output_type": "display_data"
    }
   ],
   "source": [
    "#Samples_df is of type DataFrame\n",
    "et_samples_df = pd.DataFrame()\n",
    "\n",
    "files = glob.glob(f'{ET_DATA_PATH}/*.txt')\n",
    "#display(files)\n",
    "\n",
    "for fi in files[2:3]: # reading only one file for now\n",
    "    display(fi)\n",
    "    with open(fi, 'r') as j:\n",
    "        tmp = json.loads(j.read())\n",
    "    for nS, sample in enumerate(tmp):\n",
    "        #display(tmp)\n",
    "        tmpdf = pd.json_normalize(data=sample, sep='_')\n",
    "        #display(tmpdf)\n",
    "        tmpdf['uid'] = fi.split('\\\\')[-1].split('_')[0]\n",
    "        tmpdf['scene'] = fi.split('_')[-1].split('.')[0]\n",
    "        et_samples_df = pd.concat([et_samples_df, tmpdf], ignore_index=True)\n",
    "    \n",
    "\n",
    "et_samples_df['timestamp'] = pd.to_datetime(et_samples_df.UnixTimeStamp, utc=True, unit='s', origin='unix')\n",
    "\n",
    "#pd.set_option('display.max_rows', samples_df.shape[0]+1)\n",
    "#display(et_samples_df['timestamp'])"
   ]
  },
  {
   "cell_type": "markdown",
   "metadata": {},
   "source": [
    "## Steeringwheel Data reading\n"
   ]
  },
  {
   "cell_type": "code",
   "execution_count": 5,
   "metadata": {
    "ExecuteTime": {
     "end_time": "2020-09-17T16:17:51.014802Z",
     "start_time": "2020-09-17T16:15:25.247220Z"
    }
   },
   "outputs": [],
   "source": [
    "steering_df = pd.DataFrame()\n",
    "\n",
    "files = glob.glob(f'{STEERING_DATA_PATH}/*.txt')\n",
    "# display(files)\n",
    "\n",
    "for fi in files[2:3]: # reading only one file for now\n",
    "    with open(fi, 'r') as j:\n",
    "        tmp = json.loads(j.read())\n",
    "    for nS, sample in enumerate(tmp):\n",
    "        tmpdf = pd.json_normalize(data=sample, sep='_')\n",
    "        tmpdf['uid'] = fi.split('\\\\')[-1].split('_')[0]\n",
    "        tmpdf['scene'] = fi.split('_')[-1].split('.')[0]\n",
    "        steering_df = pd.concat([steering_df, tmpdf], ignore_index=True)\n",
    "    \n",
    "\n",
    "steering_df['timestamp'] = pd.to_datetime(steering_df.TimeStamp, utc=True, unit='s', origin='unix')\n"
   ]
  },
  {
   "cell_type": "markdown",
   "metadata": {},
   "source": [
    "### Check if timestamps allign"
   ]
  },
  {
   "cell_type": "code",
   "execution_count": 6,
   "metadata": {},
   "outputs": [],
   "source": [
    "#display(steering_df)\n",
    "ne = pd.DataFrame()\n",
    "i = 0\n",
    "ne['Equal'] = np.where(steering_df['timestamp'] == et_samples_df['timestamp'],'1','0')\n",
    "for index,row in ne.iterrows():\n",
    "    if(row['Equal'])!='1':\n",
    "        steering_df = steering_df.drop(labels=[row.name], axis=0)\n",
    "        et_samples_df = et_samples_df.drop(labels=[row.name], axis=0)\n",
    "        #print(row.name)        \n",
    "        i = i+1\n",
    "\n",
    "#i"
   ]
  },
  {
   "cell_type": "code",
   "execution_count": 7,
   "metadata": {},
   "outputs": [],
   "source": [
    "# If one DF is to long\n",
    "#steering_df.drop(steering_df.tail(1).index,inplace=True)\n",
    "# fuse the two DF if euqal\n",
    "et_samples_df = pd.merge(steering_df, et_samples_df)"
   ]
  },
  {
   "cell_type": "markdown",
   "metadata": {},
   "source": [
    "## Callibration Participant Data"
   ]
  },
  {
   "cell_type": "code",
   "execution_count": null,
   "metadata": {},
   "outputs": [],
   "source": [
    "#Samples_df is of type DataFrame\n",
    "part_samples_df = pd.DataFrame()\n",
    "\n",
    "files = glob.glob(f'{PARTICIPANT_DATA_PATH}/*.txt')\n",
    "#display(files)\n",
    "\n",
    "for fi in files[2:3]: # reading only one file for now\n",
    "    with open(fi, 'r') as j:\n",
    "        tmp = json.loads(j.read())\n",
    "        tempdf0 = pd.DataFrame.from_dict(tmp,orient='index').T        \n",
    "        tempdf0[[\"EyeValidationError.x\",\"EyeValidationError.y\",\"EyeValidationError.z\"]] = pd.DataFrame(tempdf0[\"EyeValidationError\"].to_list(), columns=['x', 'y','z'])\n",
    "        tempdf0[[\"SeatCalibrationOffset.x\",\"SeatCalibrationOffset.y\",\"SeatCalibrationOffset.z\"]] = pd.DataFrame(tempdf0[\"SeatCalibrationOffset\"].to_list(), columns=['x', 'y','z'])\n",
    "        part_samples_df = pd.concat([part_samples_df, tempdf0], ignore_index=True)\n",
    "        \n",
    "display(part_samples_df)"
   ]
  },
  {
   "cell_type": "markdown",
   "metadata": {},
   "source": [
    "## Event Data Check"
   ]
  },
  {
   "cell_type": "code",
   "execution_count": null,
   "metadata": {},
   "outputs": [],
   "source": [
    "event_samples_df = pd.DataFrame()\n",
    "interims_df = pd.DataFrame()\n",
    "Event_dur_df = pd.DataFrame()\n",
    "#pd.set_option(\"display.max_colwidth\", -1)\n",
    "\n",
    "files = glob.glob(f'{SCENE_EVENT_DATA_PATH}/*.txt')\n",
    "for fi in files[2:3]: # reading only one file for now\n",
    "    with open(fi, 'r') as j:\n",
    "        tmp = json.loads(j.read())\n",
    "        x = tmp.get('EventBehavior')\n",
    "        for i in range(len(x)):\n",
    "            tmpdf = pd.json_normalize(data=x[i], sep='_')\n",
    "            interims_df = tmpdf[['EventName', 'StartofEventTimeStamp', 'EndOfEventTimeStamp',\n",
    "       'EventDuration', 'SuccessfulCompletionState', 'HitObjectName']]\n",
    "            Event_dur_df = pd.concat([Event_dur_df,interims_df],ignore_index = True)\n",
    "            tmpdf2 = pd.json_normalize(tmpdf[\"dynamicObjectData\"])\n",
    "            for nS, sample in enumerate(tmpdf2):\n",
    "                temp = list(tmpdf2[nS])\n",
    "                tmpdf3 = pd.json_normalize(data=temp, sep='_')\n",
    "                tmpdf3['uid'] = fi.split('\\\\')[-1].split('_')[0]\n",
    "                tmpdf3['scene'] = fi.split('_')[-1].split('.')[0]\n",
    "                tmpdf3[['EventName', 'StartofEventTimeStamp', 'EndOfEventTimeStamp',\n",
    "       'EventDuration', 'SuccessfulCompletionState', 'HitObjectName']] = interims_df[['EventName', 'StartofEventTimeStamp', 'EndOfEventTimeStamp',\n",
    "       'EventDuration', 'SuccessfulCompletionState', 'HitObjectName']]\n",
    "                event_samples_df = pd.concat([event_samples_df, tmpdf3], ignore_index=True)\n",
    "                \n",
    "event_samples_df['timestamp'] = pd.to_datetime(event_samples_df.UnixTimeStamp, utc=True, unit='s', origin='unix')\n",
    "event_samples_df['StartofEventTime'] = pd.to_datetime(event_samples_df.StartofEventTimeStamp, utc=True, unit='s', origin='unix')\n",
    "event_samples_df['EndofEventTime'] = pd.to_datetime(event_samples_df.EndOfEventTimeStamp, utc=True, unit='s', origin='unix')\n",
    "\n",
    "#pd.set_option('display.max_columns', event_samples_df.shape[0]+1)\n",
    "#display(event_samples_df)"
   ]
  },
  {
   "cell_type": "markdown",
   "metadata": {},
   "source": [
    "### Get Event Time frames"
   ]
  },
  {
   "cell_type": "code",
   "execution_count": null,
   "metadata": {},
   "outputs": [],
   "source": [
    "Start = et_samples_df.iloc[0]['timestamp']\n",
    "#print(Start)\n",
    "Event_dur_df['StartofEventTimeStamp'] = pd.to_datetime(Event_dur_df.StartofEventTimeStamp, utc=True, unit='s', origin='unix')\n",
    "Event_dur_df['EndOfEventTimeStamp'] = pd.to_datetime(Event_dur_df.EndOfEventTimeStamp, utc=True, unit='s', origin='unix')\n",
    "#Event_dur_df['StartofEventTimeStamp']\n",
    "Event_dur_df['time_from_start_to_Event'] = ((Event_dur_df['StartofEventTimeStamp']- Start) /np.timedelta64(1,'s'))\n",
    "Event_dur_df['time_from_start_to_End'] = ((Event_dur_df['EndOfEventTimeStamp']- Start) /np.timedelta64(1,'s'))\n",
    "display(Event_dur_df)"
   ]
  },
  {
   "cell_type": "code",
   "execution_count": null,
   "metadata": {
    "ExecuteTime": {
     "end_time": "2020-09-17T15:15:15.471837Z",
     "start_time": "2020-09-17T15:15:15.455879Z"
    }
   },
   "outputs": [],
   "source": [
    "et_samples_df.scene.unique()\n",
    "#event_samples_df.scene.unique()"
   ]
  },
  {
   "cell_type": "code",
   "execution_count": null,
   "metadata": {
    "ExecuteTime": {
     "end_time": "2020-09-17T15:15:19.927151Z",
     "start_time": "2020-09-17T15:15:19.917176Z"
    }
   },
   "outputs": [],
   "source": [
    "#display(et_samples_df[['EyeBlinkingWorldLeftTobii', 'EyeBliningWorldRightTobii',\n",
    "#       'EyeBlinkingLocalLeftTobii', 'EyeBlinkingLocalRightTobii']])\n",
    "#display(et_samples_df.loc())\n",
    "np.where(et_samples_df[['EyeBlinkingWorldLeftTobii']])[1]"
   ]
  },
  {
   "cell_type": "markdown",
   "metadata": {},
   "source": [
    "### eye velocity"
   ]
  },
  {
   "cell_type": "code",
   "execution_count": 8,
   "metadata": {
    "ExecuteTime": {
     "end_time": "2020-09-17T15:43:38.388511Z",
     "start_time": "2020-09-17T15:43:38.293772Z"
    }
   },
   "outputs": [],
   "source": [
    "# Calculate head & eye angles\n",
    "# read up on arctan\n",
    "et_samples_df.reset_index(inplace=False)\n",
    "et_samples_df['eye_theta_h'] = np.arctan2(et_samples_df['EyeDirectionCombinedLocal_x'], \n",
    "                                       et_samples_df['EyeDirectionCombinedLocal_z'])\n",
    "et_samples_df['eye_theta_v'] = np.arctan2(et_samples_df['EyeDirectionCombinedLocal_y'], \n",
    "                                       et_samples_df['EyeDirectionCombinedLocal_z'])\n",
    "\n",
    "et_samples_df['head_theta_h'] = np.arctan2(et_samples_df['NoseVector_x'], \n",
    "                                        et_samples_df['NoseVector_z'])\n",
    "et_samples_df['head_theta_v'] = np.arctan2(et_samples_df['NoseVector_y'],\n",
    "                                        et_samples_df['NoseVector_z'])\n",
    "\n",
    "# Calculate head & eye velocity\n",
    "et_samples_df['eye_vel_h'] = (et_samples_df\n",
    "                                .groupby(['uid', 'scene'])\n",
    "                                .eye_theta_h\n",
    "                                .apply(lambda x: x.diff())\n",
    "                          )/(et_samples_df\n",
    "                                .groupby(['uid', 'scene'])\n",
    "                                .timestamp\n",
    "                                .apply(lambda x: x.diff()/np.timedelta64(1, 's')))\n",
    "\n",
    "et_samples_df['eye_vel_v'] = (et_samples_df\n",
    "                                .groupby(['uid', 'scene'])\n",
    "                                .eye_theta_v\n",
    "                                .apply(lambda x: x.diff())\n",
    "                          )/(et_samples_df\n",
    "                                .groupby(['uid', 'scene'])\n",
    "                                .timestamp\n",
    "                                .apply(lambda x: x.diff()/np.timedelta64(1, 's')))\n",
    "\n",
    "et_samples_df['head_vel_h'] = (et_samples_df\n",
    "                                .groupby(['uid', 'scene'])\n",
    "                                .head_theta_h\n",
    "                                .apply(lambda x: x.diff())\n",
    "                          )/(et_samples_df\n",
    "                                .groupby(['uid', 'scene'])\n",
    "                                .timestamp\n",
    "                                .apply(lambda x: x.diff()/np.timedelta64(1, 's')))\n",
    "\n",
    "et_samples_df['head_vel_v'] = (et_samples_df\n",
    "                                .groupby(['uid', 'scene'])\n",
    "                                .head_theta_v\n",
    "                                .apply(lambda x: x.diff())\n",
    "                          )/(et_samples_df\n",
    "                                .groupby(['uid', 'scene'])\n",
    "                                .timestamp\n",
    "                                .apply(lambda x: x.diff()/np.timedelta64(1, 's')))\n"
   ]
  },
  {
   "cell_type": "code",
   "execution_count": 9,
   "metadata": {
    "ExecuteTime": {
     "end_time": "2020-09-17T15:43:46.378896Z",
     "start_time": "2020-09-17T15:43:46.365934Z"
    }
   },
   "outputs": [],
   "source": [
    "et_samples_df['eye_angular_vel'] =np.sqrt(et_samples_df.eye_vel_h**2 + et_samples_df.eye_vel_v**2)\n",
    "et_samples_df['head_angular_vel'] =np.sqrt(et_samples_df.head_vel_h**2 + et_samples_df.head_vel_v**2)"
   ]
  },
  {
   "cell_type": "code",
   "execution_count": 10,
   "metadata": {
    "ExecuteTime": {
     "end_time": "2020-09-17T15:43:53.181742Z",
     "start_time": "2020-09-17T15:43:53.153817Z"
    }
   },
   "outputs": [],
   "source": [
    "et_samples_df.dropna(axis=0,subset=['eye_angular_vel', 'eye_vel_h', 'head_angular_vel', 'head_vel_h'], inplace=True)"
   ]
  },
  {
   "cell_type": "code",
   "execution_count": 11,
   "metadata": {},
   "outputs": [],
   "source": [
    "et_samples_df.set_index('timestamp', inplace=True)\n",
    "\n",
    "#create column which keeps track of time elapsed since trial start\n",
    "et_samples_df['time_from_start'] = (et_samples_df\n",
    "#                                    .reset_index()\n",
    "                                   .groupby(['uid','scene',], as_index=False)\n",
    "#                                    .timestamp\n",
    "                                   .transform(lambda x: \n",
    "                                              (x.index - x.index[0])/np.timedelta64(1,'s'))\n",
    "                                   .UnixTimeStamp\n",
    "                                  )\n",
    "\n",
    "#display(et_samples_df)"
   ]
  },
  {
   "cell_type": "code",
   "execution_count": 12,
   "metadata": {},
   "outputs": [
    {
     "data": {
      "text/plain": [
       "Index(['TimeStamp', 'ReceivedInput', 'SteeringInput', 'AcellerationInput',\n",
       "       'BrakeInput', 'uid', 'scene', 'UnixTimeStamp', 'TobiiTimeStamp', 'FPS',\n",
       "       'EyeOpennessLeftSranipal', 'EyeOpennessRightSranipal',\n",
       "       'pupilDiameterMillimetersLeft', 'pupilDiameterMillimetersRight',\n",
       "       'EyeBlinkingWorldLeftTobii', 'EyeBliningWorldRightTobii',\n",
       "       'EyeBlinkingLocalLeftTobii', 'EyeBlinkingLocalRightTobii', 'hitObjects',\n",
       "       'HmdPosition_x', 'HmdPosition_y', 'HmdPosition_z', 'NoseVector_x',\n",
       "       'NoseVector_y', 'NoseVector_z', 'HmdRotation_x', 'HmdRotation_y',\n",
       "       'HmdRotation_z', 'HmdRotation_w', 'EyePositionCombinedWorld_x',\n",
       "       'EyePositionCombinedWorld_y', 'EyePositionCombinedWorld_z',\n",
       "       'EyeDirectionCombinedWorld_x', 'EyeDirectionCombinedWorld_y',\n",
       "       'EyeDirectionCombinedWorld_z', 'EyePositionCombinedLocal_x',\n",
       "       'EyePositionCombinedLocal_y', 'EyePositionCombinedLocal_z',\n",
       "       'EyeDirectionCombinedLocal_x', 'EyeDirectionCombinedLocal_y',\n",
       "       'EyeDirectionCombinedLocal_z', 'EyePositionLeftWorld_x',\n",
       "       'EyePositionLeftWorld_y', 'EyePositionLeftWorld_z',\n",
       "       'EyeDirectionLeftWorld_x', 'EyeDirectionLeftWorld_y',\n",
       "       'EyeDirectionLeftWorld_z', 'EyePositionLeftLocal_x',\n",
       "       'EyePositionLeftLocal_y', 'EyePositionLeftLocal_z',\n",
       "       'EyeDirectionLeftLocal_x', 'EyeDirectionLeftLocal_y',\n",
       "       'EyeDirectionLeftLocal_z', 'EyePositionRightWorld_x',\n",
       "       'EyePositionRightWorld_y', 'EyePositionRightWorld_z',\n",
       "       'EyePositionRightLocal_x', 'EyePositionRightLocal_y',\n",
       "       'EyePositionRightLocal_z', 'EyeDirectionRightWorld_x',\n",
       "       'EyeDirectionRightWorld_y', 'EyeDirectionRightWorld_z',\n",
       "       'EyeDirectionRightLocal_x', 'EyeDirectionRightLocal_y',\n",
       "       'EyeDirectionRightLocal_z', 'EyePositionWorldCombinedTobii_x',\n",
       "       'EyePositionWorldCombinedTobii_y', 'EyePositionWorldCombinedTobii_z',\n",
       "       'EyePositionLocalCombinedTobii_x', 'EyePositionLocalCombinedTobii_y',\n",
       "       'EyePositionLocalCombinedTobii_z', 'EyeDirectionWorldCombinedTobii_x',\n",
       "       'EyeDirectionWorldCombinedTobii_y', 'EyeDirectionWorldCombinedTobii_z',\n",
       "       'EyeDirectionLocalCombinedTobii_x', 'EyeDirectionLocalCombinedTobii_y',\n",
       "       'EyeDirectionLocalCombinedTobii_z', 'CarPosition_x', 'CarPosition_y',\n",
       "       'CarPosition_z', 'CarRotation_x', 'CarRotation_y', 'CarRotation_z',\n",
       "       'CarRotation_w', 'eye_theta_h', 'eye_theta_v', 'head_theta_h',\n",
       "       'head_theta_v', 'eye_vel_h', 'eye_vel_v', 'head_vel_h', 'head_vel_v',\n",
       "       'eye_angular_vel', 'head_angular_vel', 'time_from_start'],\n",
       "      dtype='object')"
      ]
     },
     "execution_count": 12,
     "metadata": {},
     "output_type": "execute_result"
    }
   ],
   "source": [
    "steering_df = et_samples_df\n",
    "steering_df.columns\n",
    "#steering_df['eye_vel_h'] = steering_df.eye_vel_h.div(300)"
   ]
  },
  {
   "cell_type": "markdown",
   "metadata": {},
   "source": [
    "## Steering data check"
   ]
  },
  {
   "cell_type": "markdown",
   "metadata": {},
   "source": [
    "### Check if timestamps allign\n"
   ]
  },
  {
   "cell_type": "code",
   "execution_count": null,
   "metadata": {
    "ExecuteTime": {
     "end_time": "2020-09-17T16:18:10.623844Z",
     "start_time": "2020-09-17T16:18:10.547403Z"
    }
   },
   "outputs": [],
   "source": [
    "steering_df.set_index('timestamp', inplace=True)\n",
    "#create column which keeps track of time elapsed since trial start\n",
    "steering_df['time_from_start'] = (steering_df\n",
    "#                                    .reset_index()\n",
    "                                   .groupby(['uid','scene',], as_index=False)\n",
    "#                                    .timestamp\n",
    "                                   .transform(lambda x: \n",
    "                                              (x.index - x.index[0])/np.timedelta64(1,'s'))\n",
    "                                   .TimeStamp\n",
    "                                  )\n",
    "\n"
   ]
  },
  {
   "cell_type": "code",
   "execution_count": null,
   "metadata": {},
   "outputs": [],
   "source": [
    "display(steering_df.columns)"
   ]
  },
  {
   "cell_type": "code",
   "execution_count": null,
   "metadata": {
    "ExecuteTime": {
     "end_time": "2020-09-17T16:31:46.047340Z",
     "start_time": "2020-09-17T16:31:45.844250Z"
    }
   },
   "outputs": [],
   "source": [
    "(\n",
    "    steering_df\n",
    "    .reset_index()\n",
    "    .groupby('timestamp')\n",
    "    .size()\n",
    "    .plot(kind='hist')\n",
    ")"
   ]
  },
  {
   "cell_type": "code",
   "execution_count": 13,
   "metadata": {
    "ExecuteTime": {
     "end_time": "2020-09-17T17:31:44.316411Z",
     "start_time": "2020-09-17T17:31:41.939683Z"
    },
    "scrolled": false
   },
   "outputs": [
    {
     "data": {
      "application/vnd.jupyter.widget-view+json": {
       "model_id": "48f1cf0f80ea456ca4f397f57eabafa3",
       "version_major": 2,
       "version_minor": 0
      },
      "text/plain": [
       "Canvas(toolbar=Toolbar(toolitems=[('Home', 'Reset original view', 'home', 'home'), ('Back', 'Back to previous …"
      ]
     },
     "metadata": {},
     "output_type": "display_data"
    }
   ],
   "source": [
    "\n",
    "for subjectID in steering_df.uid.unique():\n",
    "    for scene in steering_df.scene.unique():\n",
    "        tmpdf = steering_df.query('uid == @subjectID and scene == @scene')\n",
    "        tmpdf = tmpdf.drop_duplicates(subset=['time_from_start'], keep='first')\n",
    "\n",
    "        _, ax = plt.subplots(1, 1, figsize=(30,5), sharex=True, sharey=False)\n",
    "#         ax = ax.ravel()\n",
    "        (\n",
    "            tmpdf\n",
    "            .plot(\n",
    "                x='time_from_start',y='SteeringInput', kind='line', color='k', lw=3 ,\n",
    "                ax=ax, label='Steering', legend=True)\n",
    "        )\n",
    "        (\n",
    "            tmpdf\n",
    "            .plot(\n",
    "                x='time_from_start',y='AcellerationInput', kind='line', color='g', \n",
    "                ax=ax, label='Acceleration', legend=True)\n",
    "        )\n",
    "        \n",
    "        (\n",
    "            tmpdf\n",
    "            .plot(\n",
    "                x='time_from_start',y='BrakeInput', kind='line', color='r', \n",
    "                ax=ax, label='Brake', legend=True)\n",
    "        )\n",
    "        (\n",
    "            tmpdf\n",
    "            .plot(\n",
    "                x='time_from_start',y='eye_theta_h', kind='line', color='y', \n",
    "                ax=ax, label='Eyemovement-horicontal', legend=True)\n",
    "        )\n",
    "        \n",
    "        \n",
    "        #ax.set_ylabel(\"My ylabel\")\n",
    "\n",
    "        plt.suptitle(f'Scene: {scene}')\n",
    "        plt.savefig(f'{PLOT_PATH}/driving_behavior_{scene}.png', dpi=100)"
   ]
  },
  {
   "cell_type": "code",
   "execution_count": null,
   "metadata": {},
   "outputs": [],
   "source": []
  }
 ],
 "metadata": {
  "kernelspec": {
   "display_name": "Python 3 (ipykernel)",
   "language": "python",
   "name": "python3"
  },
  "language_info": {
   "codemirror_mode": {
    "name": "ipython",
    "version": 3
   },
   "file_extension": ".py",
   "mimetype": "text/x-python",
   "name": "python",
   "nbconvert_exporter": "python",
   "pygments_lexer": "ipython3",
   "version": "3.8.12"
  },
  "toc": {
   "base_numbering": 1,
   "nav_menu": {},
   "number_sections": true,
   "sideBar": true,
   "skip_h1_title": false,
   "title_cell": "Table of Contents",
   "title_sidebar": "Contents",
   "toc_cell": false,
   "toc_position": {},
   "toc_section_display": true,
   "toc_window_display": false
  },
  "varInspector": {
   "cols": {
    "lenName": 16,
    "lenType": 16,
    "lenVar": 40
   },
   "kernels_config": {
    "python": {
     "delete_cmd_postfix": "",
     "delete_cmd_prefix": "del ",
     "library": "var_list.py",
     "varRefreshCmd": "print(var_dic_list())"
    },
    "r": {
     "delete_cmd_postfix": ") ",
     "delete_cmd_prefix": "rm(",
     "library": "var_list.r",
     "varRefreshCmd": "cat(var_dic_list()) "
    }
   },
   "types_to_exclude": [
    "module",
    "function",
    "builtin_function_or_method",
    "instance",
    "_Feature"
   ],
   "window_display": false
  }
 },
 "nbformat": 4,
 "nbformat_minor": 4
}
